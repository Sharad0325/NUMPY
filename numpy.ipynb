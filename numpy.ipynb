{
 "cells": [
  {
   "cell_type": "code",
   "execution_count": 1,
   "id": "e04c0f96-0270-4add-8499-e45908c5ea33",
   "metadata": {},
   "outputs": [],
   "source": [
    "# 1 Create a NumPy array 'arr' of integers from 0 to 5 and print its data type. \n",
    "import numpy as np\n",
    "import random\n",
    "arr = np.arange(0,6)"
   ]
  },
  {
   "cell_type": "code",
   "execution_count": 2,
   "id": "d3cf8a68-0d3f-4f72-99b4-5999a2c4c784",
   "metadata": {},
   "outputs": [
    {
     "data": {
      "text/plain": [
       "array([0, 1, 2, 3, 4, 5])"
      ]
     },
     "execution_count": 2,
     "metadata": {},
     "output_type": "execute_result"
    }
   ],
   "source": [
    "arr"
   ]
  },
  {
   "cell_type": "code",
   "execution_count": 3,
   "id": "c1b3533d-1680-4eff-a504-b0e26a39be20",
   "metadata": {},
   "outputs": [
    {
     "data": {
      "text/plain": [
       "dtype('int32')"
      ]
     },
     "execution_count": 3,
     "metadata": {},
     "output_type": "execute_result"
    }
   ],
   "source": [
    "arr.dtype"
   ]
  },
  {
   "cell_type": "code",
   "execution_count": 4,
   "id": "9417be06-492b-4272-ba0e-1b2c294f2de8",
   "metadata": {},
   "outputs": [
    {
     "data": {
      "text/plain": [
       "dtype('float64')"
      ]
     },
     "execution_count": 4,
     "metadata": {},
     "output_type": "execute_result"
    }
   ],
   "source": [
    "#2 Given a NumPy array 'arr', check if its data type is float64. \n",
    "arr = np.array([1.5, 2.6, 3.7])\n",
    "arr.dtype"
   ]
  },
  {
   "cell_type": "code",
   "execution_count": 5,
   "id": "6e5b0612-8125-436a-8b3d-3cb58c766f5a",
   "metadata": {},
   "outputs": [],
   "source": [
    "#3 Create a NumPy array 'arr' with a data type of complex128 containing three complex numbers.\n",
    "complex_no = np.array([3+2j,5+7j,1+4j]) # complex no is x+yj."
   ]
  },
  {
   "cell_type": "code",
   "execution_count": 6,
   "id": "3a1d683e-6c4d-45f1-be67-6752b258c400",
   "metadata": {},
   "outputs": [
    {
     "data": {
      "text/plain": [
       "dtype('complex128')"
      ]
     },
     "execution_count": 6,
     "metadata": {},
     "output_type": "execute_result"
    }
   ],
   "source": [
    "complex_no.dtype"
   ]
  },
  {
   "cell_type": "code",
   "execution_count": 7,
   "id": "ab3663db-8a65-4628-b452-85b16a7bfa7a",
   "metadata": {},
   "outputs": [],
   "source": [
    "#4 Convert an existing NumPy array 'arr' of integers to float32 data type.\n",
    "inte = np.array([1,2,3,4,5])"
   ]
  },
  {
   "cell_type": "code",
   "execution_count": 8,
   "id": "1a69560a-f1c5-4ef6-af84-941d99eed615",
   "metadata": {},
   "outputs": [
    {
     "data": {
      "text/plain": [
       "array([1, 2, 3, 4, 5])"
      ]
     },
     "execution_count": 8,
     "metadata": {},
     "output_type": "execute_result"
    }
   ],
   "source": [
    "inte"
   ]
  },
  {
   "cell_type": "code",
   "execution_count": 9,
   "id": "3258eef5-547c-464e-a40c-079177e30e22",
   "metadata": {},
   "outputs": [
    {
     "data": {
      "text/plain": [
       "dtype('int32')"
      ]
     },
     "execution_count": 9,
     "metadata": {},
     "output_type": "execute_result"
    }
   ],
   "source": [
    "inte.dtype"
   ]
  },
  {
   "cell_type": "code",
   "execution_count": 10,
   "id": "db278a34-c511-44ea-97f8-826eeb7cb4a8",
   "metadata": {},
   "outputs": [],
   "source": [
    "inte = np.float32(inte)"
   ]
  },
  {
   "cell_type": "code",
   "execution_count": 11,
   "id": "9324ad57-f521-4b1c-af1a-8c47fb080fbd",
   "metadata": {},
   "outputs": [
    {
     "data": {
      "text/plain": [
       "array([1., 2., 3., 4., 5.], dtype=float32)"
      ]
     },
     "execution_count": 11,
     "metadata": {},
     "output_type": "execute_result"
    }
   ],
   "source": [
    "inte"
   ]
  },
  {
   "cell_type": "code",
   "execution_count": 12,
   "id": "b392a095-e7e0-49e3-801a-1f0b4fa29f28",
   "metadata": {},
   "outputs": [
    {
     "data": {
      "text/plain": [
       "dtype('float64')"
      ]
     },
     "execution_count": 12,
     "metadata": {},
     "output_type": "execute_result"
    }
   ],
   "source": [
    "# 5 Given a NumPy array 'arr' with float64 data type, convert it to float32 to reduce decimal precision.\n",
    "flo = np.array([1.1,2.1,3.1,4.1])\n",
    "flo.dtype"
   ]
  },
  {
   "cell_type": "code",
   "execution_count": 13,
   "id": "96a526c6-54a2-4ab3-89be-ee227b7aebab",
   "metadata": {},
   "outputs": [
    {
     "data": {
      "text/plain": [
       "array([1.1, 2.1, 3.1, 4.1], dtype=float32)"
      ]
     },
     "execution_count": 13,
     "metadata": {},
     "output_type": "execute_result"
    }
   ],
   "source": [
    "flo = np.float32(flo)\n",
    "flo"
   ]
  },
  {
   "cell_type": "code",
   "execution_count": 14,
   "id": "7e2bf6ad-8bc6-4434-8f14-00c942047b01",
   "metadata": {},
   "outputs": [],
   "source": [
    "# 6 Write a function array_attributes that takes a NumPy array as input and returns its shape, size, and data type.\n",
    "def array_attributes(a):\n",
    "    print(\"the shape of given array is : \",a.shape)\n",
    "    print(\"the size of given array is : \",a.size)\n",
    "    print(\"the data type of given array is : \",a.dtype)\n",
    "    return a"
   ]
  },
  {
   "cell_type": "code",
   "execution_count": 15,
   "id": "ac66645f-5341-4ecd-b708-38aeaa838917",
   "metadata": {},
   "outputs": [
    {
     "name": "stdout",
     "output_type": "stream",
     "text": [
      "the shape of given array is :  (2, 3)\n",
      "the size of given array is :  6\n",
      "the data type of given array is :  int32\n"
     ]
    },
    {
     "data": {
      "text/plain": [
       "array([[ 8,  5,  4],\n",
       "       [ 2,  7, 11]])"
      ]
     },
     "execution_count": 15,
     "metadata": {},
     "output_type": "execute_result"
    }
   ],
   "source": [
    "array_attributes(np.array([[8,5,4],[2,7,11]]))"
   ]
  },
  {
   "cell_type": "code",
   "execution_count": 16,
   "id": "ad41d94a-1adb-4c38-ae0c-3f5d68fa7acd",
   "metadata": {},
   "outputs": [],
   "source": [
    "# 7 Create a function array_dimension that takes a NumPy array as input and returns its dimensionality.\n",
    "def array_dimension(a):\n",
    "     print(\"the dimension of given array is : \",a.ndim)   \n",
    "     return a   "
   ]
  },
  {
   "cell_type": "code",
   "execution_count": 17,
   "id": "097b39ea-6911-428b-8e5c-f33d95bcc0ef",
   "metadata": {},
   "outputs": [
    {
     "name": "stdout",
     "output_type": "stream",
     "text": [
      "the dimension of given array is :  3\n"
     ]
    },
    {
     "data": {
      "text/plain": [
       "array([[[4, 4, 2],\n",
       "        [1, 1, 4]]])"
      ]
     },
     "execution_count": 17,
     "metadata": {},
     "output_type": "execute_result"
    }
   ],
   "source": [
    "array_dimension(np.random.randint(1,5,(1,2,3)))"
   ]
  },
  {
   "cell_type": "code",
   "execution_count": 18,
   "id": "8e897068-4334-4e15-b26c-3990babc9590",
   "metadata": {},
   "outputs": [],
   "source": [
    "# 8 Design a function item_size_info that takes a NumPy array as input and returns the item size and the total size in bytes.\n",
    "def item_size_info(a):\n",
    "    print(\"the item size of given array is : \",a.size)\n",
    "    print(\"the data type of given array is : \",a.dtype)\n",
    "    print(\"the total bytes of given array is : \",a.nbytes) \n",
    "    return a"
   ]
  },
  {
   "cell_type": "code",
   "execution_count": 19,
   "id": "0e69c706-0c6d-44d2-80d4-f6b96341bbf8",
   "metadata": {},
   "outputs": [
    {
     "name": "stdout",
     "output_type": "stream",
     "text": [
      "the item size of given array is :  15\n",
      "the data type of given array is :  float64\n",
      "the total bytes of given array is :  120\n"
     ]
    },
    {
     "data": {
      "text/plain": [
       "array([[0.68756869, 0.86930532, 0.28220483],\n",
       "       [0.14059456, 0.99792444, 0.11427046],\n",
       "       [0.95632871, 0.13493068, 0.01661797],\n",
       "       [0.17569945, 0.10424927, 0.56211662],\n",
       "       [0.38274086, 0.61539213, 0.82905665]])"
      ]
     },
     "execution_count": 19,
     "metadata": {},
     "output_type": "execute_result"
    }
   ],
   "source": [
    "item_size_info(np.random.rand(5,3)) # array of 64-bit float(each 8 bytes)"
   ]
  },
  {
   "cell_type": "code",
   "execution_count": 20,
   "id": "928c8b80-8674-48da-9a2f-f1be4c9a3cec",
   "metadata": {},
   "outputs": [
    {
     "name": "stdout",
     "output_type": "stream",
     "text": [
      "the item size of given array is :  15\n",
      "the data type of given array is :  int32\n",
      "the total bytes of given array is :  60\n"
     ]
    },
    {
     "data": {
      "text/plain": [
       "array([[9, 1, 6],\n",
       "       [2, 2, 5],\n",
       "       [4, 1, 8],\n",
       "       [1, 5, 8],\n",
       "       [7, 1, 2]])"
      ]
     },
     "execution_count": 20,
     "metadata": {},
     "output_type": "execute_result"
    }
   ],
   "source": [
    "item_size_info(np.random.randint(1,10,(5,3))) # array of 32-bit intergers(each 4 bytes)"
   ]
  },
  {
   "cell_type": "code",
   "execution_count": 21,
   "id": "f36b1ccc-603e-41d0-9cd2-de65b21cfdd3",
   "metadata": {},
   "outputs": [],
   "source": [
    "# 9 Create a function array_strides that takes a NumPy array as input and returns the strides of the array.\n",
    "def array_strides(a):\n",
    "    print(\"the data type of given array is : \",a.dtype)\n",
    "    print(\"the strides of given array is : \",a.strides)\n",
    "    return a"
   ]
  },
  {
   "cell_type": "code",
   "execution_count": 22,
   "id": "6c78e65b-2101-45e8-b9c3-e82776e365ca",
   "metadata": {},
   "outputs": [
    {
     "name": "stdout",
     "output_type": "stream",
     "text": [
      "the data type of given array is :  int32\n",
      "the strides of given array is :  (24, 4)\n"
     ]
    },
    {
     "data": {
      "text/plain": [
       "array([[4, 9, 3, 9, 3, 8],\n",
       "       [9, 8, 2, 3, 3, 2]])"
      ]
     },
     "execution_count": 22,
     "metadata": {},
     "output_type": "execute_result"
    }
   ],
   "source": [
    "array_strides(np.random.randint(1,10,(2,6)))\n",
    "# array of 32-bit integers (each 4 bytes)\n",
    "#this array is stored in memory as 48 (4 bytes * 12 element) bytes, one after the other  (known as a contiguous block of memory). \n",
    "#The strides of an array tell us how many bytes we have to skip in memory to move to the next position along a certain axis. \n",
    "#For example, we have to skip 4 bytes (1 value) to move to the next column, but 24 bytes (6 values) to get to the same position in the next row. \n",
    "#As such, the strides for the array a will be (24, 4)."
   ]
  },
  {
   "cell_type": "code",
   "execution_count": 23,
   "id": "a7a09fcf-fe9a-4f21-8ccc-7b8c9d95726d",
   "metadata": {},
   "outputs": [],
   "source": [
    "# 10 Design a function shape_stride_relationship that takes a NumPy array as input and returns the shape and strides of the array.\n",
    "def shape_stride_relationship(a):\n",
    "    print(\"the shape of given array is : \",a.shape)\n",
    "    print(\"the data type of given array is : \",a.dtype)\n",
    "    print(\"the strides of given array is : \",a.strides)\n",
    "    return a"
   ]
  },
  {
   "cell_type": "code",
   "execution_count": 24,
   "id": "3609fe9e-3d2c-4d88-a47e-9954b2882cce",
   "metadata": {},
   "outputs": [
    {
     "name": "stdout",
     "output_type": "stream",
     "text": [
      "the shape of given array is :  (2, 4)\n",
      "the data type of given array is :  float64\n",
      "the strides of given array is :  (32, 8)\n"
     ]
    },
    {
     "data": {
      "text/plain": [
       "array([[0.88623069, 0.49216408, 0.86253759, 0.83516573],\n",
       "       [0.60225979, 0.04025681, 0.96256858, 0.79174413]])"
      ]
     },
     "execution_count": 24,
     "metadata": {},
     "output_type": "execute_result"
    }
   ],
   "source": [
    "shape_stride_relationship(np.random.rand(2,4))\n",
    "# array of 64-bit float (each 8 bytes)\n",
    "#this array is stored in memory as 64 (8 bytes * 8 element) bytes, one after the other  (known as a contiguous block of memory). \n",
    "#The strides of an array tell us how many bytes we have to skip in memory to move to the next position along a certain axis. \n",
    "#For example, we have to skip 8 bytes (1 value) to move to the next column, but 32 bytes (4 values) to get to the same position in the next row. \n",
    "#As such, the strides for the array a will be (24, 4)."
   ]
  },
  {
   "cell_type": "code",
   "execution_count": 25,
   "id": "7bf57c4f-dcbf-431b-a58a-9062c28aa0b6",
   "metadata": {},
   "outputs": [],
   "source": [
    "# 11 Create a function `create_zeros_array` that takes an integer `n` as input and returns a NumPy array of zeros with `n` elements.\n",
    "def create_zeros_array(n):\n",
    "    return np.zeros(n)"
   ]
  },
  {
   "cell_type": "code",
   "execution_count": 26,
   "id": "d3f2abd1-45b6-47a2-8ba7-ed2464cd79e9",
   "metadata": {},
   "outputs": [
    {
     "data": {
      "text/plain": [
       "array([0., 0., 0., 0., 0., 0., 0.])"
      ]
     },
     "execution_count": 26,
     "metadata": {},
     "output_type": "execute_result"
    }
   ],
   "source": [
    "create_zeros_array(7)"
   ]
  },
  {
   "cell_type": "code",
   "execution_count": 27,
   "id": "316d0050-d564-48f1-a6bb-f32778bfac4b",
   "metadata": {},
   "outputs": [],
   "source": [
    "# 12 Write a function `create_ones_matrix` that takes integers `rows` and `cols` as inputs \n",
    "# and generates a 2D NumPy array filled with ones of size `rows x cols`.\n",
    "def create_ones_matrix(n):\n",
    "    return np.ones(n) "
   ]
  },
  {
   "cell_type": "code",
   "execution_count": 28,
   "id": "52c54c48-0809-416a-a479-05f701450eb2",
   "metadata": {},
   "outputs": [
    {
     "data": {
      "text/plain": [
       "array([[1., 1., 1.],\n",
       "       [1., 1., 1.]])"
      ]
     },
     "execution_count": 28,
     "metadata": {},
     "output_type": "execute_result"
    }
   ],
   "source": [
    "create_ones_matrix((2,3))"
   ]
  },
  {
   "cell_type": "code",
   "execution_count": 29,
   "id": "516d1ab8-337a-4ac7-9a48-307233ac916e",
   "metadata": {},
   "outputs": [],
   "source": [
    "# 13 Write a function `generate_range_array` that takes three integers start, stop, and step as arguments and creates a NumPy array with a range starting \n",
    "# from `start`, ending at stop (exclusive), and with the specified `step`.\n",
    "def generate_range_array(start,stop,step):\n",
    "    return np.arange(start,stop,step)"
   ]
  },
  {
   "cell_type": "code",
   "execution_count": 30,
   "id": "9dad8b8e-8611-489a-b8d5-9e76cef39521",
   "metadata": {},
   "outputs": [
    {
     "data": {
      "text/plain": [
       "array([ 1,  4,  7, 10])"
      ]
     },
     "execution_count": 30,
     "metadata": {},
     "output_type": "execute_result"
    }
   ],
   "source": [
    "generate_range_array(1,11,3)"
   ]
  },
  {
   "cell_type": "code",
   "execution_count": 31,
   "id": "d38a58d7-aaa8-4c38-8ff4-ac3094cec8a5",
   "metadata": {},
   "outputs": [],
   "source": [
    "# 14 Design a function `generate_linear_space` that takes two floats `start`, `stop`, and an integer `num` as arguments and generates a NumPy array with \n",
    "# num equally spaced values between `start` and `stop` (inclusive).\n",
    "def generate_linear_space(start,stop,num):\n",
    "    return np.linspace(start,stop,num)"
   ]
  },
  {
   "cell_type": "code",
   "execution_count": 32,
   "id": "f090f910-7ba8-4aea-8dd6-a0841a101f73",
   "metadata": {},
   "outputs": [
    {
     "data": {
      "text/plain": [
       "array([0.5       , 1.05555556, 1.61111111, 2.16666667, 2.72222222,\n",
       "       3.27777778, 3.83333333, 4.38888889, 4.94444444, 5.5       ])"
      ]
     },
     "execution_count": 32,
     "metadata": {},
     "output_type": "execute_result"
    }
   ],
   "source": [
    "generate_linear_space(0.5,5.5,10)"
   ]
  },
  {
   "cell_type": "code",
   "execution_count": 33,
   "id": "7f08e268-f0a6-41fb-80c2-567f31fcaf7c",
   "metadata": {},
   "outputs": [],
   "source": [
    "# 15 Create a function `create_identity_matrix` that takes an integer `n` as input and generates a square identity matrix of size `nxn` using `numpy.eye`.\n",
    "def create_identity_matrix(n):\n",
    "    return np.eye(n)"
   ]
  },
  {
   "cell_type": "code",
   "execution_count": 34,
   "id": "33c3f3d2-98d4-43c8-a2f0-6a5fcfc875ad",
   "metadata": {},
   "outputs": [
    {
     "data": {
      "text/plain": [
       "array([[1., 0., 0., 0.],\n",
       "       [0., 1., 0., 0.],\n",
       "       [0., 0., 1., 0.],\n",
       "       [0., 0., 0., 1.]])"
      ]
     },
     "execution_count": 34,
     "metadata": {},
     "output_type": "execute_result"
    }
   ],
   "source": [
    "create_identity_matrix(4)"
   ]
  },
  {
   "cell_type": "code",
   "execution_count": 35,
   "id": "2e1398bd-19fa-4fcb-a0df-ea0dee26d489",
   "metadata": {},
   "outputs": [],
   "source": [
    "# 16 Write a function that takes a Python list and converts it into a NumPy array.\n",
    "def list_to_array(a):\n",
    "    return np.asarray(a) # asanyarray(a) will also gave same result,diffrence is asarray() convert both non-array and array into array but asanyarray() convert only non-array into aaray."
   ]
  },
  {
   "cell_type": "code",
   "execution_count": 36,
   "id": "cb3ee37a-4b8d-41cc-b6eb-111569b6ae4c",
   "metadata": {},
   "outputs": [
    {
     "data": {
      "text/plain": [
       "array([ 5,  8,  4,  3,  7,  9, 11])"
      ]
     },
     "execution_count": 36,
     "metadata": {},
     "output_type": "execute_result"
    }
   ],
   "source": [
    "list_to_array([5,8,4,3,7,9,11])"
   ]
  },
  {
   "cell_type": "code",
   "execution_count": 37,
   "id": "24c45c2b-fe43-4a9e-b60f-4c5c8022c702",
   "metadata": {},
   "outputs": [],
   "source": [
    "# 17  Create a NumPy array and demonstrate the use of `numpy.view` to create a new array object with the same data\n",
    "arr1 = np.array([[1,2,3],[4,5,6],[7,8,9]])"
   ]
  },
  {
   "cell_type": "code",
   "execution_count": 38,
   "id": "8e1a954e-a352-46fb-94bd-9b81b1e6cf45",
   "metadata": {},
   "outputs": [],
   "source": [
    "view_arr1 = arr1.view()"
   ]
  },
  {
   "cell_type": "code",
   "execution_count": 39,
   "id": "0d08747e-d137-4d7a-b464-b1998d58c6a7",
   "metadata": {},
   "outputs": [
    {
     "data": {
      "text/plain": [
       "array([[1, 2, 3],\n",
       "       [4, 5, 6],\n",
       "       [7, 8, 9]])"
      ]
     },
     "execution_count": 39,
     "metadata": {},
     "output_type": "execute_result"
    }
   ],
   "source": [
    "view_arr1"
   ]
  },
  {
   "cell_type": "code",
   "execution_count": 40,
   "id": "584a977c-9997-4ba8-87ba-2dc0337a1430",
   "metadata": {},
   "outputs": [],
   "source": [
    "view_arr1[0,0] = 47"
   ]
  },
  {
   "cell_type": "code",
   "execution_count": 41,
   "id": "45f4afe7-a7cb-4bd6-acff-7f3043f24a68",
   "metadata": {},
   "outputs": [
    {
     "data": {
      "text/plain": [
       "array([[47,  2,  3],\n",
       "       [ 4,  5,  6],\n",
       "       [ 7,  8,  9]])"
      ]
     },
     "execution_count": 41,
     "metadata": {},
     "output_type": "execute_result"
    }
   ],
   "source": [
    "view_arr1"
   ]
  },
  {
   "cell_type": "code",
   "execution_count": 42,
   "id": "b3994dbe-5256-4c89-8148-3bd9139363b4",
   "metadata": {},
   "outputs": [
    {
     "data": {
      "text/plain": [
       "array([[47,  2,  3],\n",
       "       [ 4,  5,  6],\n",
       "       [ 7,  8,  9]])"
      ]
     },
     "execution_count": 42,
     "metadata": {},
     "output_type": "execute_result"
    }
   ],
   "source": [
    "arr1"
   ]
  },
  {
   "cell_type": "code",
   "execution_count": 43,
   "id": "14eb71ea-8889-4e8f-930f-f77a9704ef45",
   "metadata": {},
   "outputs": [],
   "source": [
    "# 18 Write a function that takes two NumPy arrays and concatenates them along a specified axis.\n",
    "def concatenate_array(arr1,arr2,axis):\n",
    "    if arr1.shape[axis] != arr2.shape[axis]:\n",
    "        raise\n",
    "    ValueError(f\"Array cannot be concatenated along axis {axis} because their dimensions do not match.\")\n",
    "    return np.concatenate((arr1,arr2),axis=axis)"
   ]
  },
  {
   "cell_type": "code",
   "execution_count": 44,
   "id": "620885a9-de00-420a-b01c-d20c6fab7ef5",
   "metadata": {},
   "outputs": [],
   "source": [
    "arr1 = np.array([[1,2,3],[4,5,6]])\n",
    "arr2 = np.array([[7,8,9],[10,11,12]])"
   ]
  },
  {
   "cell_type": "code",
   "execution_count": 45,
   "id": "3dc97e3b-c1a6-4ab0-b9d0-b9647c2586f4",
   "metadata": {},
   "outputs": [
    {
     "data": {
      "text/plain": [
       "array([[ 1,  2,  3],\n",
       "       [ 4,  5,  6],\n",
       "       [ 7,  8,  9],\n",
       "       [10, 11, 12]])"
      ]
     },
     "execution_count": 45,
     "metadata": {},
     "output_type": "execute_result"
    }
   ],
   "source": [
    "concatenate_array(arr1,arr2,axis=0)"
   ]
  },
  {
   "cell_type": "code",
   "execution_count": 46,
   "id": "1a5ab0af-78e3-472b-b067-1b787720fcac",
   "metadata": {
    "scrolled": true
   },
   "outputs": [
    {
     "data": {
      "text/plain": [
       "array([[ 1,  2,  3,  7,  8,  9],\n",
       "       [ 4,  5,  6, 10, 11, 12]])"
      ]
     },
     "execution_count": 46,
     "metadata": {},
     "output_type": "execute_result"
    }
   ],
   "source": [
    "concatenate_array(arr1,arr2,axis=1)"
   ]
  },
  {
   "cell_type": "code",
   "execution_count": 47,
   "id": "e6fa0424-b7d3-4a21-8a63-40fe3c295a08",
   "metadata": {},
   "outputs": [],
   "source": [
    "# 19 Create two NumPy arrays with different shapes and concatenate them horizontally using `numpy.concatenate`\n",
    "arr1 = np.array([[1,2,3],[4,5,6]])\n",
    "arr2 = np.array([[7,8],[9,10]])"
   ]
  },
  {
   "cell_type": "code",
   "execution_count": 48,
   "id": "ced7dd67-2da6-4e4b-8628-b772a9686f9f",
   "metadata": {},
   "outputs": [],
   "source": [
    "con_arr = np.concatenate((arr1,arr2),axis=1)"
   ]
  },
  {
   "cell_type": "code",
   "execution_count": 49,
   "id": "799247f3-1e61-4273-a26c-91db8dfc8262",
   "metadata": {},
   "outputs": [
    {
     "data": {
      "text/plain": [
       "array([[ 1,  2,  3,  7,  8],\n",
       "       [ 4,  5,  6,  9, 10]])"
      ]
     },
     "execution_count": 49,
     "metadata": {},
     "output_type": "execute_result"
    }
   ],
   "source": [
    "con_arr"
   ]
  },
  {
   "cell_type": "code",
   "execution_count": 50,
   "id": "c6e9a51e-a5dc-4e0b-8db3-01d174b22907",
   "metadata": {},
   "outputs": [],
   "source": [
    "# 20 Write a function that vertically stacks multiple NumPy arrays given as a list.\n",
    "def vertical_stack(arrays_list):\n",
    "    return np.vstack(arrays_list)"
   ]
  },
  {
   "cell_type": "code",
   "execution_count": 51,
   "id": "d104a0f5-d5e8-4331-bc22-25eabe9aa803",
   "metadata": {},
   "outputs": [],
   "source": [
    "arr1 = np.array([[1,2,3],[4,5,6]])\n",
    "arr2 = np.array([[7,8,9],[10,11,12]])\n",
    "arr3 = np.array([[13,14,15]])\n",
    "arr4 = np.array([[16,17,18]])\n",
    "arrays_list = [arr1,arr2,arr3,arr4]"
   ]
  },
  {
   "cell_type": "code",
   "execution_count": 52,
   "id": "0b18b224-3e4b-4dda-b667-035797404e1c",
   "metadata": {},
   "outputs": [
    {
     "data": {
      "text/plain": [
       "array([[ 1,  2,  3],\n",
       "       [ 4,  5,  6],\n",
       "       [ 7,  8,  9],\n",
       "       [10, 11, 12],\n",
       "       [13, 14, 15],\n",
       "       [16, 17, 18]])"
      ]
     },
     "execution_count": 52,
     "metadata": {},
     "output_type": "execute_result"
    }
   ],
   "source": [
    "vertical_stack(arrays_list)"
   ]
  },
  {
   "cell_type": "code",
   "execution_count": 53,
   "id": "7b5cae70-0698-43ca-98b4-35d77fc18ed8",
   "metadata": {},
   "outputs": [],
   "source": [
    "# 21  Write a Python function using NumPy to create an array of integers within a specified range (inclusive) with a given step size.\n",
    "def integer_array(start,stop,step):\n",
    "    return np.arange(start,stop+1,step)"
   ]
  },
  {
   "cell_type": "code",
   "execution_count": 54,
   "id": "14f390c3-465b-4fa3-8256-7c64227b65af",
   "metadata": {},
   "outputs": [
    {
     "data": {
      "text/plain": [
       "array([ 1,  3,  5,  7,  9, 11])"
      ]
     },
     "execution_count": 54,
     "metadata": {},
     "output_type": "execute_result"
    }
   ],
   "source": [
    "integer_array(1,11,2)"
   ]
  },
  {
   "cell_type": "code",
   "execution_count": 55,
   "id": "54fe8941-f5e4-484f-96b6-39975e3e5f49",
   "metadata": {},
   "outputs": [],
   "source": [
    "# 22 Write a Python function using NumPy to generate an array of 10 equally spaced values between 0 and 1 (inclusive).\n",
    "def equally_spaced_array(start,stop,num):\n",
    "    return np.linspace(start,stop,num)"
   ]
  },
  {
   "cell_type": "code",
   "execution_count": 56,
   "id": "7dc99c0c-cb53-4608-8000-a250f06e114f",
   "metadata": {},
   "outputs": [
    {
     "data": {
      "text/plain": [
       "array([0.        , 0.11111111, 0.22222222, 0.33333333, 0.44444444,\n",
       "       0.55555556, 0.66666667, 0.77777778, 0.88888889, 1.        ])"
      ]
     },
     "execution_count": 56,
     "metadata": {},
     "output_type": "execute_result"
    }
   ],
   "source": [
    "equally_spaced_array(0,1,10)"
   ]
  },
  {
   "cell_type": "code",
   "execution_count": 57,
   "id": "9b6d616b-326f-4d21-bfc1-caef90456315",
   "metadata": {},
   "outputs": [],
   "source": [
    "# 23 Write a Python function using NumPy to create an array of 5 logarithmically spaced values between 1 and 1000 (inclusive).\n",
    "def log_spaced(start,stop,num):\n",
    "    start_log = np.log10(start) # Convert start and stop to their logarithmic values\n",
    "    stop_log = np.log10(stop)\n",
    "    return np.logspace(start_log,stop_log,num)"
   ]
  },
  {
   "cell_type": "code",
   "execution_count": 58,
   "id": "220e2b11-1d58-483d-9aa2-41c4a98b5e6a",
   "metadata": {},
   "outputs": [
    {
     "data": {
      "text/plain": [
       "array([   1.        ,    5.62341325,   31.6227766 ,  177.827941  ,\n",
       "       1000.        ])"
      ]
     },
     "execution_count": 58,
     "metadata": {},
     "output_type": "execute_result"
    }
   ],
   "source": [
    "log_spaced(1,1000,5)"
   ]
  },
  {
   "cell_type": "code",
   "execution_count": 59,
   "id": "04e5bec9-ca88-4155-af3b-5d45c60cf83a",
   "metadata": {},
   "outputs": [],
   "source": [
    "# 24 Create a Pandas DataFrame using a NumPy array that contains 5 rows and 3 columns, where the values are random integers between 1 and 100.\n",
    "import pandas as pd\n",
    "arr = np.random.randint(1,100,(5,3))"
   ]
  },
  {
   "cell_type": "code",
   "execution_count": 60,
   "id": "bf6a9fd6-3df6-4f5f-b8d5-74a5064023cb",
   "metadata": {},
   "outputs": [
    {
     "data": {
      "text/plain": [
       "array([[ 6, 64, 79],\n",
       "       [34, 57, 91],\n",
       "       [25, 20, 15],\n",
       "       [62, 80, 14],\n",
       "       [40, 33, 25]])"
      ]
     },
     "execution_count": 60,
     "metadata": {},
     "output_type": "execute_result"
    }
   ],
   "source": [
    "arr"
   ]
  },
  {
   "cell_type": "code",
   "execution_count": 61,
   "id": "daa9fef1-b724-4590-9137-9e5e1cccb2b9",
   "metadata": {},
   "outputs": [],
   "source": [
    "df= pd.DataFrame(arr)\n",
    "df.columns = ['column 1','column 2','column 3']"
   ]
  },
  {
   "cell_type": "code",
   "execution_count": 62,
   "id": "ef1d1a11-c3fd-4bab-b437-f80373136ea3",
   "metadata": {},
   "outputs": [
    {
     "data": {
      "text/html": [
       "<div>\n",
       "<style scoped>\n",
       "    .dataframe tbody tr th:only-of-type {\n",
       "        vertical-align: middle;\n",
       "    }\n",
       "\n",
       "    .dataframe tbody tr th {\n",
       "        vertical-align: top;\n",
       "    }\n",
       "\n",
       "    .dataframe thead th {\n",
       "        text-align: right;\n",
       "    }\n",
       "</style>\n",
       "<table border=\"1\" class=\"dataframe\">\n",
       "  <thead>\n",
       "    <tr style=\"text-align: right;\">\n",
       "      <th></th>\n",
       "      <th>column 1</th>\n",
       "      <th>column 2</th>\n",
       "      <th>column 3</th>\n",
       "    </tr>\n",
       "  </thead>\n",
       "  <tbody>\n",
       "    <tr>\n",
       "      <th>0</th>\n",
       "      <td>6</td>\n",
       "      <td>64</td>\n",
       "      <td>79</td>\n",
       "    </tr>\n",
       "    <tr>\n",
       "      <th>1</th>\n",
       "      <td>34</td>\n",
       "      <td>57</td>\n",
       "      <td>91</td>\n",
       "    </tr>\n",
       "    <tr>\n",
       "      <th>2</th>\n",
       "      <td>25</td>\n",
       "      <td>20</td>\n",
       "      <td>15</td>\n",
       "    </tr>\n",
       "    <tr>\n",
       "      <th>3</th>\n",
       "      <td>62</td>\n",
       "      <td>80</td>\n",
       "      <td>14</td>\n",
       "    </tr>\n",
       "    <tr>\n",
       "      <th>4</th>\n",
       "      <td>40</td>\n",
       "      <td>33</td>\n",
       "      <td>25</td>\n",
       "    </tr>\n",
       "  </tbody>\n",
       "</table>\n",
       "</div>"
      ],
      "text/plain": [
       "   column 1  column 2  column 3\n",
       "0         6        64        79\n",
       "1        34        57        91\n",
       "2        25        20        15\n",
       "3        62        80        14\n",
       "4        40        33        25"
      ]
     },
     "execution_count": 62,
     "metadata": {},
     "output_type": "execute_result"
    }
   ],
   "source": [
    "df"
   ]
  },
  {
   "cell_type": "code",
   "execution_count": 63,
   "id": "b995b94e-863a-43eb-aa1d-89cc5f054e04",
   "metadata": {},
   "outputs": [],
   "source": [
    "# 25 Write a function that takes a Pandas DataFrame and replaces all negative values in a specific column with zeros.\n",
    "# Use NumPy operations within the Pandas DataFrame.\n",
    "def replace_negative_with_zero(df, column_name,column_name_2):\n",
    "    df[column_name] = np.where(df[column_name] < 0, 0, df[column_name])\n",
    "    df[column_name_2] = np.where(df[column_name_2] < 0, 0, df[column_name_2])\n",
    "    return df"
   ]
  },
  {
   "cell_type": "code",
   "execution_count": 64,
   "id": "ed1e31e2-d9da-470a-871a-76409d454ab1",
   "metadata": {},
   "outputs": [],
   "source": [
    "data = {'col_1': [28, -39, 19, -4, 52],'col_2': [-11, 8, 12, -21, 17]}\n",
    "df = pd.DataFrame(data)"
   ]
  },
  {
   "cell_type": "code",
   "execution_count": 65,
   "id": "36a25a13-a7ff-446d-ac77-b3c19f93dbc9",
   "metadata": {},
   "outputs": [
    {
     "data": {
      "text/html": [
       "<div>\n",
       "<style scoped>\n",
       "    .dataframe tbody tr th:only-of-type {\n",
       "        vertical-align: middle;\n",
       "    }\n",
       "\n",
       "    .dataframe tbody tr th {\n",
       "        vertical-align: top;\n",
       "    }\n",
       "\n",
       "    .dataframe thead th {\n",
       "        text-align: right;\n",
       "    }\n",
       "</style>\n",
       "<table border=\"1\" class=\"dataframe\">\n",
       "  <thead>\n",
       "    <tr style=\"text-align: right;\">\n",
       "      <th></th>\n",
       "      <th>col_1</th>\n",
       "      <th>col_2</th>\n",
       "    </tr>\n",
       "  </thead>\n",
       "  <tbody>\n",
       "    <tr>\n",
       "      <th>0</th>\n",
       "      <td>28</td>\n",
       "      <td>-11</td>\n",
       "    </tr>\n",
       "    <tr>\n",
       "      <th>1</th>\n",
       "      <td>-39</td>\n",
       "      <td>8</td>\n",
       "    </tr>\n",
       "    <tr>\n",
       "      <th>2</th>\n",
       "      <td>19</td>\n",
       "      <td>12</td>\n",
       "    </tr>\n",
       "    <tr>\n",
       "      <th>3</th>\n",
       "      <td>-4</td>\n",
       "      <td>-21</td>\n",
       "    </tr>\n",
       "    <tr>\n",
       "      <th>4</th>\n",
       "      <td>52</td>\n",
       "      <td>17</td>\n",
       "    </tr>\n",
       "  </tbody>\n",
       "</table>\n",
       "</div>"
      ],
      "text/plain": [
       "   col_1  col_2\n",
       "0     28    -11\n",
       "1    -39      8\n",
       "2     19     12\n",
       "3     -4    -21\n",
       "4     52     17"
      ]
     },
     "execution_count": 65,
     "metadata": {},
     "output_type": "execute_result"
    }
   ],
   "source": [
    "df"
   ]
  },
  {
   "cell_type": "code",
   "execution_count": 66,
   "id": "c341cd4c-4f54-4457-ba86-ea91874df361",
   "metadata": {},
   "outputs": [
    {
     "data": {
      "text/html": [
       "<div>\n",
       "<style scoped>\n",
       "    .dataframe tbody tr th:only-of-type {\n",
       "        vertical-align: middle;\n",
       "    }\n",
       "\n",
       "    .dataframe tbody tr th {\n",
       "        vertical-align: top;\n",
       "    }\n",
       "\n",
       "    .dataframe thead th {\n",
       "        text-align: right;\n",
       "    }\n",
       "</style>\n",
       "<table border=\"1\" class=\"dataframe\">\n",
       "  <thead>\n",
       "    <tr style=\"text-align: right;\">\n",
       "      <th></th>\n",
       "      <th>col_1</th>\n",
       "      <th>col_2</th>\n",
       "    </tr>\n",
       "  </thead>\n",
       "  <tbody>\n",
       "    <tr>\n",
       "      <th>0</th>\n",
       "      <td>28</td>\n",
       "      <td>0</td>\n",
       "    </tr>\n",
       "    <tr>\n",
       "      <th>1</th>\n",
       "      <td>0</td>\n",
       "      <td>8</td>\n",
       "    </tr>\n",
       "    <tr>\n",
       "      <th>2</th>\n",
       "      <td>19</td>\n",
       "      <td>12</td>\n",
       "    </tr>\n",
       "    <tr>\n",
       "      <th>3</th>\n",
       "      <td>0</td>\n",
       "      <td>0</td>\n",
       "    </tr>\n",
       "    <tr>\n",
       "      <th>4</th>\n",
       "      <td>52</td>\n",
       "      <td>17</td>\n",
       "    </tr>\n",
       "  </tbody>\n",
       "</table>\n",
       "</div>"
      ],
      "text/plain": [
       "   col_1  col_2\n",
       "0     28      0\n",
       "1      0      8\n",
       "2     19     12\n",
       "3      0      0\n",
       "4     52     17"
      ]
     },
     "execution_count": 66,
     "metadata": {},
     "output_type": "execute_result"
    }
   ],
   "source": [
    "replace_negative_with_zero(df,'col_1','col_2')"
   ]
  },
  {
   "cell_type": "code",
   "execution_count": 67,
   "id": "d01751af-4fd0-4846-9f1c-77425f31fc6e",
   "metadata": {},
   "outputs": [],
   "source": [
    "# 26 Access the 3rd element from the given NumPy array.\n",
    "arr = np.array([10, 20, 30, 40, 50])"
   ]
  },
  {
   "cell_type": "code",
   "execution_count": 68,
   "id": "d4d7b0cf-2ef9-4b1f-a9a9-ef11caf65ed6",
   "metadata": {},
   "outputs": [
    {
     "data": {
      "text/plain": [
       "30"
      ]
     },
     "execution_count": 68,
     "metadata": {},
     "output_type": "execute_result"
    }
   ],
   "source": [
    "arr[2]"
   ]
  },
  {
   "cell_type": "code",
   "execution_count": 69,
   "id": "8fe462b9-ca99-49b9-b078-07f39e4f2bd8",
   "metadata": {},
   "outputs": [],
   "source": [
    "# 27 Retrieve the element at index (1, 2) from the 2D NumPy array.\n",
    "arr_2d = np.array([[1, 2, 3],[4, 5, 6],[7, 8, 9]])"
   ]
  },
  {
   "cell_type": "code",
   "execution_count": 70,
   "id": "c42ab77b-adf9-40f9-b476-8ca00c385970",
   "metadata": {},
   "outputs": [
    {
     "data": {
      "text/plain": [
       "array([[1, 2, 3],\n",
       "       [4, 5, 6],\n",
       "       [7, 8, 9]])"
      ]
     },
     "execution_count": 70,
     "metadata": {},
     "output_type": "execute_result"
    }
   ],
   "source": [
    "arr_2d"
   ]
  },
  {
   "cell_type": "code",
   "execution_count": 71,
   "id": "f1fc923d-22db-4f96-a9e3-4db90520383c",
   "metadata": {},
   "outputs": [
    {
     "data": {
      "text/plain": [
       "6"
      ]
     },
     "execution_count": 71,
     "metadata": {},
     "output_type": "execute_result"
    }
   ],
   "source": [
    "arr_2d[1,2]"
   ]
  },
  {
   "cell_type": "code",
   "execution_count": 72,
   "id": "8ec576dc-bd02-4f7c-af8d-ef6ce5748f68",
   "metadata": {},
   "outputs": [],
   "source": [
    "# 28 Using boolean indexing, extract elements greater than 5 from the given NumPy array.\n",
    "arr = np.array([3, 8, 2, 10, 5, 7])"
   ]
  },
  {
   "cell_type": "code",
   "execution_count": 73,
   "id": "86fc6e55-5991-4ed8-bb7c-124c342fb808",
   "metadata": {},
   "outputs": [
    {
     "data": {
      "text/plain": [
       "array([ 8, 10,  7])"
      ]
     },
     "execution_count": 73,
     "metadata": {},
     "output_type": "execute_result"
    }
   ],
   "source": [
    "arr[arr>5]"
   ]
  },
  {
   "cell_type": "code",
   "execution_count": 74,
   "id": "579b1938-9871-4139-a63d-501fda413a46",
   "metadata": {},
   "outputs": [],
   "source": [
    "#29 Perform basic slicing to extract elements from index 2 to 5 (inclusive) from the given NumPy array.\n",
    "arr = np.array([1, 2, 3, 4, 5, 6, 7, 8, 9])"
   ]
  },
  {
   "cell_type": "code",
   "execution_count": 75,
   "id": "a556a8f2-e9e1-4116-95aa-9acea4bd139f",
   "metadata": {},
   "outputs": [
    {
     "data": {
      "text/plain": [
       "array([3, 4, 5, 6])"
      ]
     },
     "execution_count": 75,
     "metadata": {},
     "output_type": "execute_result"
    }
   ],
   "source": [
    "arr[2:6]"
   ]
  },
  {
   "cell_type": "code",
   "execution_count": 76,
   "id": "f91a5ccc-5a5b-4c87-bb8f-76dd7f5eddf0",
   "metadata": {},
   "outputs": [],
   "source": [
    "# 30 Slice the 2D NumPy array to extract the sub-array `[[2, 3], [5, 6]]` from the given array.\n",
    "arr_2d = np.array([[1, 2, 3],[4, 5, 6],[7, 8, 9]])"
   ]
  },
  {
   "cell_type": "code",
   "execution_count": 77,
   "id": "84d84042-cbc4-40d8-8dae-2cf4dfea8c3c",
   "metadata": {},
   "outputs": [
    {
     "data": {
      "text/plain": [
       "array([[1, 2, 3],\n",
       "       [4, 5, 6],\n",
       "       [7, 8, 9]])"
      ]
     },
     "execution_count": 77,
     "metadata": {},
     "output_type": "execute_result"
    }
   ],
   "source": [
    "arr_2d"
   ]
  },
  {
   "cell_type": "code",
   "execution_count": 78,
   "id": "48123972-466c-4403-8785-aa414d77f82d",
   "metadata": {},
   "outputs": [
    {
     "data": {
      "text/plain": [
       "array([[2, 3],\n",
       "       [5, 6]])"
      ]
     },
     "execution_count": 78,
     "metadata": {},
     "output_type": "execute_result"
    }
   ],
   "source": [
    "arr_2d[0:2,[1,2]]"
   ]
  },
  {
   "cell_type": "code",
   "execution_count": 79,
   "id": "69a99d78-8995-4415-b596-3cd81656bbe2",
   "metadata": {},
   "outputs": [],
   "source": [
    "# 31 Write a NumPy function to extract elements in specific order from a given 2D array based on indices provided in another array.\n",
    "def extract_elenemts(arr_2d,indices):\n",
    "   rows,cols = indices[:,0],indices[:,1]\n",
    "   return arr_2d[rows,cols]"
   ]
  },
  {
   "cell_type": "code",
   "execution_count": 80,
   "id": "9ea6ac66-e7d8-43b6-99fd-9c76b5f6e346",
   "metadata": {},
   "outputs": [],
   "source": [
    "arr_2d = np.array([[10, 20, 30],[40, 50, 60],[70, 80, 90]])\n",
    "indices = np.array([[0,1],[1,2],[2,0]])"
   ]
  },
  {
   "cell_type": "code",
   "execution_count": 81,
   "id": "6cf690e6-8106-47a0-9804-da0b39143e46",
   "metadata": {},
   "outputs": [
    {
     "data": {
      "text/plain": [
       "array([20, 60, 70])"
      ]
     },
     "execution_count": 81,
     "metadata": {},
     "output_type": "execute_result"
    }
   ],
   "source": [
    "extract_elenemts(arr_2d,indices)"
   ]
  },
  {
   "cell_type": "code",
   "execution_count": 82,
   "id": "12eb32f9-5fa0-4378-a8ae-b04944943d5d",
   "metadata": {},
   "outputs": [],
   "source": [
    "# 32 Create a NumPy function that filters elements greater than a threshold from a given 1D array using boolean indexing.\n",
    "import numpy as np\n",
    "import random\n",
    "def filter_element(arr,threshold):\n",
    "    print(\"array is: \\n\",arr)\n",
    "    return arr[arr>threshold]"
   ]
  },
  {
   "cell_type": "code",
   "execution_count": 83,
   "id": "429ee8a0-68bb-4a1e-a8ab-1dda050490ac",
   "metadata": {},
   "outputs": [
    {
     "name": "stdout",
     "output_type": "stream",
     "text": [
      "array is: \n",
      " [[ 5  1  2  7 10  7  9]\n",
      " [ 8 10  7  7  6  7  8]\n",
      " [ 4  9  5  1  9  9  9]]\n"
     ]
    },
    {
     "data": {
      "text/plain": [
       "array([ 7, 10,  7,  9,  8, 10,  7,  7,  6,  7,  8,  9,  9,  9,  9])"
      ]
     },
     "execution_count": 83,
     "metadata": {},
     "output_type": "execute_result"
    }
   ],
   "source": [
    "filter_element(np.random.randint(1,11,(3,7)),5)"
   ]
  },
  {
   "cell_type": "code",
   "execution_count": 84,
   "id": "8c4a48a4-954f-4c7b-82f9-04c77f911b77",
   "metadata": {},
   "outputs": [],
   "source": [
    "# 33 Develop a NumPy function that extracts specific elements from a 3D array using indices provided in three separate arrays for each dimension.\n",
    "def extract_elenemts_3d(arr_3d,x_indices,y_indices,z_indices):\n",
    "    x_indices = np.asarray(x_indices)\n",
    "    y_indices = np.asarray(y_indices)\n",
    "    z_indices = np.asarray(z_indices)\n",
    "    if (len(x_indices)) != (len(y_indices)) != (len(z_indices)):\n",
    "        print(\"lenght is not equal for all araay\")\n",
    "    return arr_3d[x_indices,y_indices,z_indices]"
   ]
  },
  {
   "cell_type": "code",
   "execution_count": 85,
   "id": "2185497a-ad08-4d9f-8732-670610072261",
   "metadata": {},
   "outputs": [],
   "source": [
    "arr_3d = np.random.randint(1,15,(3,3,3))"
   ]
  },
  {
   "cell_type": "code",
   "execution_count": 86,
   "id": "bbeb20c0-7e47-4194-9306-da53170af1b9",
   "metadata": {},
   "outputs": [
    {
     "data": {
      "text/plain": [
       "array([[[ 2,  3, 14],\n",
       "        [ 4,  2,  9],\n",
       "        [ 7,  8,  9]],\n",
       "\n",
       "       [[ 7,  2,  7],\n",
       "        [14,  8,  5],\n",
       "        [12,  5,  4]],\n",
       "\n",
       "       [[13, 13,  4],\n",
       "        [12,  4,  2],\n",
       "        [ 1,  4,  1]]])"
      ]
     },
     "execution_count": 86,
     "metadata": {},
     "output_type": "execute_result"
    }
   ],
   "source": [
    "arr_3d"
   ]
  },
  {
   "cell_type": "code",
   "execution_count": 87,
   "id": "e0689973-645d-4645-9a45-b08e3534fcb2",
   "metadata": {},
   "outputs": [],
   "source": [
    "x_indices = np.array([0,1,2])\n",
    "y_indices = np.array([1,2,2])\n",
    "z_indices = np.array([2,2,1])"
   ]
  },
  {
   "cell_type": "code",
   "execution_count": 88,
   "id": "d1a7c4cc-2a6e-4a81-be9d-9538fb436dfd",
   "metadata": {},
   "outputs": [
    {
     "data": {
      "text/plain": [
       "array([9, 4, 4])"
      ]
     },
     "execution_count": 88,
     "metadata": {},
     "output_type": "execute_result"
    }
   ],
   "source": [
    "extract_elenemts_3d(arr_3d,x_indices,y_indices,z_indices)"
   ]
  },
  {
   "cell_type": "code",
   "execution_count": 89,
   "id": "e7471425-fa86-46e6-9149-498cbfb8b4a2",
   "metadata": {},
   "outputs": [],
   "source": [
    "# 34 Write a NumPy function that returns elements from an array where both two conditions are satisfied using boolean indexing.\n",
    "arr = np.random.randint(1,30,(3,7))\n",
    "def and_condition(arr,con1,con2):\n",
    "    print(\"array is: \\n\",arr)\n",
    "    print(\"filtered array is:\",arr[(arr>con1) & (arr<con2)])"
   ]
  },
  {
   "cell_type": "code",
   "execution_count": 90,
   "id": "b5159d1b-0bbc-4aab-8015-130d2e8c4d17",
   "metadata": {},
   "outputs": [
    {
     "name": "stdout",
     "output_type": "stream",
     "text": [
      "array is: \n",
      " [[ 3 10 26  9 20 22 25]\n",
      " [20 22 28  9  8  1  1]\n",
      " [24  8 16  6 11 20  8]]\n",
      "filtered array is: [20 22 20 22 24 16 11 20]\n"
     ]
    }
   ],
   "source": [
    "and_condition(arr,10,25)"
   ]
  },
  {
   "cell_type": "code",
   "execution_count": 91,
   "id": "cbd65e86-6783-434c-9dd2-c0c58e131c45",
   "metadata": {},
   "outputs": [],
   "source": [
    "# 35 Create a NumPy function that extracts elements from a 2D array using row and column indices provided in separate arrays.\n",
    "def extract_elenemts(ar_2d,row_indices,col_indices):\n",
    "    row_indices = np.array(row_indices)\n",
    "    col_indices = np.array(col_indices)\n",
    "    return arr[row_indices,col_indices]"
   ]
  },
  {
   "cell_type": "code",
   "execution_count": 92,
   "id": "e408a530-8e3b-4c3a-b7ea-593dcdc52ee3",
   "metadata": {},
   "outputs": [],
   "source": [
    "ar_2d = np.array([[1,2,3,4],[5,6,7,8],[8,9,10,11]])\n",
    "row_indices = np.array([0,1,2])\n",
    "col_indices = np.array([0,1,2])"
   ]
  },
  {
   "cell_type": "code",
   "execution_count": 93,
   "id": "dbe8cff4-3f82-406b-b8ab-1b5580ca5f73",
   "metadata": {},
   "outputs": [
    {
     "data": {
      "text/plain": [
       "array([ 3, 22, 16])"
      ]
     },
     "execution_count": 93,
     "metadata": {},
     "output_type": "execute_result"
    }
   ],
   "source": [
    "extract_elenemts(ar_2d,row_indices,col_indices)"
   ]
  },
  {
   "cell_type": "code",
   "execution_count": 94,
   "id": "a6cd6533-abf6-4f95-a654-a2f6ece0e948",
   "metadata": {},
   "outputs": [],
   "source": [
    "# 36 Given an array arr of shape (3, 3), add a scalar value of 5 to each element using NumPy broadcasting.\n",
    "arr = np.random.randint(4,9,(3,3))"
   ]
  },
  {
   "cell_type": "code",
   "execution_count": 95,
   "id": "04f86e78-bb30-4218-a982-3fb39f85b1d2",
   "metadata": {},
   "outputs": [
    {
     "data": {
      "text/plain": [
       "array([[7, 8, 6],\n",
       "       [8, 4, 5],\n",
       "       [6, 8, 8]])"
      ]
     },
     "execution_count": 95,
     "metadata": {},
     "output_type": "execute_result"
    }
   ],
   "source": [
    "arr"
   ]
  },
  {
   "cell_type": "code",
   "execution_count": 96,
   "id": "fc6bae8f-5094-4913-95ef-cad4ac5ea39f",
   "metadata": {},
   "outputs": [
    {
     "data": {
      "text/plain": [
       "array([[12, 13, 11],\n",
       "       [13,  9, 10],\n",
       "       [11, 13, 13]])"
      ]
     },
     "execution_count": 96,
     "metadata": {},
     "output_type": "execute_result"
    }
   ],
   "source": [
    "arr + 5"
   ]
  },
  {
   "cell_type": "code",
   "execution_count": 97,
   "id": "a61f5278-1360-4411-a214-9633ee6b0314",
   "metadata": {},
   "outputs": [],
   "source": [
    "# 37 Consider two arrays arr1 of shape (3, 1) and arr2 of shape (3, 4). Multiply each row of arr2 by the corresponding element in arr1 \n",
    "# using NumPy broadcasting.\n",
    "arr1 = np.random.randint(1,6,(3,1))\n",
    "arr2 = np.random.randint(5,10,(3,4))"
   ]
  },
  {
   "cell_type": "code",
   "execution_count": 98,
   "id": "da25b9c5-0a76-49eb-be74-1de337b21dd7",
   "metadata": {},
   "outputs": [
    {
     "data": {
      "text/plain": [
       "array([[5],\n",
       "       [5],\n",
       "       [1]])"
      ]
     },
     "execution_count": 98,
     "metadata": {},
     "output_type": "execute_result"
    }
   ],
   "source": [
    "arr1"
   ]
  },
  {
   "cell_type": "code",
   "execution_count": 99,
   "id": "3725d15d-8850-4620-8f8f-71d54317dd3a",
   "metadata": {},
   "outputs": [
    {
     "data": {
      "text/plain": [
       "array([[9, 6, 7, 5],\n",
       "       [5, 6, 9, 6],\n",
       "       [8, 6, 7, 5]])"
      ]
     },
     "execution_count": 99,
     "metadata": {},
     "output_type": "execute_result"
    }
   ],
   "source": [
    "arr2"
   ]
  },
  {
   "cell_type": "code",
   "execution_count": 100,
   "id": "3920df9e-83d5-48f9-af62-a93e73135d8b",
   "metadata": {},
   "outputs": [
    {
     "data": {
      "text/plain": [
       "array([[45, 30, 35, 25],\n",
       "       [25, 30, 45, 30],\n",
       "       [ 8,  6,  7,  5]])"
      ]
     },
     "execution_count": 100,
     "metadata": {},
     "output_type": "execute_result"
    }
   ],
   "source": [
    "arr1 * arr2"
   ]
  },
  {
   "cell_type": "code",
   "execution_count": 101,
   "id": "c1ce3a5c-46ff-4820-9f04-9138ee8ef7bc",
   "metadata": {},
   "outputs": [],
   "source": [
    "# 38 Given a 1D array arr1 of shape (1, 4) and a 2D array arr2 of shape (4, 3), add arr1 to each row of arr2 using NumPy broadcasting.\n",
    "arr1 = np.random.randint(7,11,(4))\n",
    "arr2 = np.random.randint(11,16,(3,4))"
   ]
  },
  {
   "cell_type": "code",
   "execution_count": 102,
   "id": "1360fa34-a827-4ac0-9953-d716c39ac6f2",
   "metadata": {},
   "outputs": [
    {
     "data": {
      "text/plain": [
       "array([10, 10,  8, 10])"
      ]
     },
     "execution_count": 102,
     "metadata": {},
     "output_type": "execute_result"
    }
   ],
   "source": [
    "arr1"
   ]
  },
  {
   "cell_type": "code",
   "execution_count": 103,
   "id": "40da0b88-7322-477f-bbd6-fad5860c931a",
   "metadata": {},
   "outputs": [
    {
     "data": {
      "text/plain": [
       "array([[13, 15, 14, 15],\n",
       "       [12, 13, 14, 11],\n",
       "       [15, 14, 14, 15]])"
      ]
     },
     "execution_count": 103,
     "metadata": {},
     "output_type": "execute_result"
    }
   ],
   "source": [
    "arr2"
   ]
  },
  {
   "cell_type": "code",
   "execution_count": 104,
   "id": "20f61da0-4f35-4295-ad7c-d96607fcf777",
   "metadata": {},
   "outputs": [
    {
     "data": {
      "text/plain": [
       "array([[23, 25, 22, 25],\n",
       "       [22, 23, 22, 21],\n",
       "       [25, 24, 22, 25]])"
      ]
     },
     "execution_count": 104,
     "metadata": {},
     "output_type": "execute_result"
    }
   ],
   "source": [
    "arr1 + arr2"
   ]
  },
  {
   "cell_type": "code",
   "execution_count": 105,
   "id": "3c4fe213-4669-49f9-bc16-046fccbeedd3",
   "metadata": {},
   "outputs": [],
   "source": [
    "# 39 Consider two arrays arr1 of shape (3, 1) and arr2 of shape (1, 3). Add these arrays using NumPy broadcasting.\n",
    "arr1 = np.random.randint(15,26,(3,1))\n",
    "arr2 = np.random.randint(26,36,(1,3))"
   ]
  },
  {
   "cell_type": "code",
   "execution_count": 106,
   "id": "7f52ce04-2ca2-4555-9088-bae0c2ebd374",
   "metadata": {},
   "outputs": [
    {
     "data": {
      "text/plain": [
       "array([[24],\n",
       "       [25],\n",
       "       [18]])"
      ]
     },
     "execution_count": 106,
     "metadata": {},
     "output_type": "execute_result"
    }
   ],
   "source": [
    "arr1"
   ]
  },
  {
   "cell_type": "code",
   "execution_count": 107,
   "id": "87aa02e9-887b-4803-bc82-8c67516222f5",
   "metadata": {},
   "outputs": [
    {
     "data": {
      "text/plain": [
       "array([[31, 34, 35]])"
      ]
     },
     "execution_count": 107,
     "metadata": {},
     "output_type": "execute_result"
    }
   ],
   "source": [
    "arr2"
   ]
  },
  {
   "cell_type": "code",
   "execution_count": 108,
   "id": "7255e5d2-a1be-49d9-861e-25b683620214",
   "metadata": {},
   "outputs": [
    {
     "data": {
      "text/plain": [
       "array([[55, 58, 59],\n",
       "       [56, 59, 60],\n",
       "       [49, 52, 53]])"
      ]
     },
     "execution_count": 108,
     "metadata": {},
     "output_type": "execute_result"
    }
   ],
   "source": [
    "arr1 + arr2"
   ]
  },
  {
   "cell_type": "code",
   "execution_count": 109,
   "id": "1d7123d3-452f-4dc9-b2d7-8f74b0ecf356",
   "metadata": {},
   "outputs": [],
   "source": [
    "# 40 Given arrays arr1 of shape (2, 3) and arr2 of shape (2, 2), perform multiplication using NumPy broadcasting. Handle the shape incompatibility.\n",
    "arr1 = np.random.randint(1,6,(3,1,2))\n",
    "arr2 = np.random.randint(6,11,(1,2,2))"
   ]
  },
  {
   "cell_type": "code",
   "execution_count": 110,
   "id": "c6cc890b-a465-4542-8c27-e229408d56e3",
   "metadata": {},
   "outputs": [
    {
     "data": {
      "text/plain": [
       "array([[[2, 5]],\n",
       "\n",
       "       [[2, 3]],\n",
       "\n",
       "       [[4, 2]]])"
      ]
     },
     "execution_count": 110,
     "metadata": {},
     "output_type": "execute_result"
    }
   ],
   "source": [
    "arr1"
   ]
  },
  {
   "cell_type": "code",
   "execution_count": 111,
   "id": "db18e7f1-1e85-43ac-bd7b-8331d415a89b",
   "metadata": {},
   "outputs": [
    {
     "data": {
      "text/plain": [
       "array([[[ 9, 10],\n",
       "        [ 9,  8]]])"
      ]
     },
     "execution_count": 111,
     "metadata": {},
     "output_type": "execute_result"
    }
   ],
   "source": [
    "arr2"
   ]
  },
  {
   "cell_type": "code",
   "execution_count": 112,
   "id": "05b0795f-42dd-4d10-81cf-676bb44f50af",
   "metadata": {},
   "outputs": [
    {
     "data": {
      "text/plain": [
       "array([[[18, 50],\n",
       "        [18, 40]],\n",
       "\n",
       "       [[18, 30],\n",
       "        [18, 24]],\n",
       "\n",
       "       [[36, 20],\n",
       "        [36, 16]]])"
      ]
     },
     "execution_count": 112,
     "metadata": {},
     "output_type": "execute_result"
    }
   ],
   "source": [
    "arr1 * arr2"
   ]
  },
  {
   "cell_type": "code",
   "execution_count": 113,
   "id": "9aac93da-3c86-4a5b-8a4d-9957f54d4da5",
   "metadata": {},
   "outputs": [
    {
     "data": {
      "text/plain": [
       "array([[1, 2, 3],\n",
       "       [4, 5, 6]])"
      ]
     },
     "execution_count": 113,
     "metadata": {},
     "output_type": "execute_result"
    }
   ],
   "source": [
    "# 41 Calculate column-wise mean for the given array:\n",
    "arr = np.array([[1, 2, 3], [4, 5, 6]])\n",
    "arr"
   ]
  },
  {
   "cell_type": "code",
   "execution_count": 114,
   "id": "06409719-5543-471b-9ffe-5e876876c412",
   "metadata": {},
   "outputs": [
    {
     "data": {
      "text/plain": [
       "2.5"
      ]
     },
     "execution_count": 114,
     "metadata": {},
     "output_type": "execute_result"
    }
   ],
   "source": [
    "np.mean(arr[0:2,[0]])"
   ]
  },
  {
   "cell_type": "code",
   "execution_count": 115,
   "id": "9b0bb88d-ecfd-478e-ae45-b7fc46f7cd77",
   "metadata": {},
   "outputs": [
    {
     "data": {
      "text/plain": [
       "3.5"
      ]
     },
     "execution_count": 115,
     "metadata": {},
     "output_type": "execute_result"
    }
   ],
   "source": [
    "np.mean(arr[0:2,[1]])"
   ]
  },
  {
   "cell_type": "code",
   "execution_count": 116,
   "id": "e2cd9970-c40e-4df6-b772-874d7172eec5",
   "metadata": {},
   "outputs": [
    {
     "data": {
      "text/plain": [
       "4.5"
      ]
     },
     "execution_count": 116,
     "metadata": {},
     "output_type": "execute_result"
    }
   ],
   "source": [
    "np.mean(arr[0:2,[2]])"
   ]
  },
  {
   "cell_type": "code",
   "execution_count": 117,
   "id": "064f1385-911e-4705-9bd4-7f735657aa82",
   "metadata": {},
   "outputs": [
    {
     "data": {
      "text/plain": [
       "array([[1, 2, 3],\n",
       "       [4, 5, 6]])"
      ]
     },
     "execution_count": 117,
     "metadata": {},
     "output_type": "execute_result"
    }
   ],
   "source": [
    "# 42 Find maximum value in each row of the given array:\n",
    "arr = np.array([[1, 2, 3], [4, 5, 6]])\n",
    "arr"
   ]
  },
  {
   "cell_type": "code",
   "execution_count": 118,
   "id": "1e7428d3-8220-43a1-9155-cc1e7feb15ac",
   "metadata": {},
   "outputs": [
    {
     "data": {
      "text/plain": [
       "3"
      ]
     },
     "execution_count": 118,
     "metadata": {},
     "output_type": "execute_result"
    }
   ],
   "source": [
    "np.max(arr[0])"
   ]
  },
  {
   "cell_type": "code",
   "execution_count": 119,
   "id": "628b0cf4-8185-4910-a30b-f4aaeb391182",
   "metadata": {},
   "outputs": [
    {
     "data": {
      "text/plain": [
       "6"
      ]
     },
     "execution_count": 119,
     "metadata": {},
     "output_type": "execute_result"
    }
   ],
   "source": [
    "np.max(arr[1])"
   ]
  },
  {
   "cell_type": "code",
   "execution_count": 120,
   "id": "50bee751-bc7c-4872-bb91-ca60dd5b5ad2",
   "metadata": {},
   "outputs": [
    {
     "data": {
      "text/plain": [
       "array([[1, 2, 3],\n",
       "       [4, 5, 6]])"
      ]
     },
     "execution_count": 120,
     "metadata": {},
     "output_type": "execute_result"
    }
   ],
   "source": [
    "# 43 For the given array, find indices of maximum value in each column.\n",
    "arr = np.array([[1, 2, 3], [4, 5, 6]])\n",
    "arr"
   ]
  },
  {
   "cell_type": "code",
   "execution_count": 121,
   "id": "1bdc320e-b4cb-4762-b74b-34ca80aad4eb",
   "metadata": {},
   "outputs": [
    {
     "data": {
      "text/plain": [
       "4"
      ]
     },
     "execution_count": 121,
     "metadata": {},
     "output_type": "execute_result"
    }
   ],
   "source": [
    "np.max(arr[0:2,[0]])"
   ]
  },
  {
   "cell_type": "code",
   "execution_count": 122,
   "id": "d7edeb2c-519c-478e-a6ba-f3886f3858dd",
   "metadata": {},
   "outputs": [
    {
     "data": {
      "text/plain": [
       "5"
      ]
     },
     "execution_count": 122,
     "metadata": {},
     "output_type": "execute_result"
    }
   ],
   "source": [
    "np.max(arr[0:2,[1]])"
   ]
  },
  {
   "cell_type": "code",
   "execution_count": 123,
   "id": "d34dc95b-2acc-4b5d-bb97-78e3407c751c",
   "metadata": {},
   "outputs": [
    {
     "data": {
      "text/plain": [
       "6"
      ]
     },
     "execution_count": 123,
     "metadata": {},
     "output_type": "execute_result"
    }
   ],
   "source": [
    "np.max(arr[0:2,[2]])"
   ]
  },
  {
   "cell_type": "code",
   "execution_count": 124,
   "id": "2ae2a6ca-f945-4501-b461-b47268f87db6",
   "metadata": {},
   "outputs": [],
   "source": [
    "# 45 In the given array, check if all elements in each column are even.\n",
    "arr = np.array([[2, 4, 6],[3,5,7]])\n",
    "def check_even_col(arr):\n",
    "    even = arr % 2 == 0\n",
    "    return even.all(axis=0)"
   ]
  },
  {
   "cell_type": "code",
   "execution_count": 125,
   "id": "2522c0e8-52c5-46b5-a6d6-3ada5b8cc03a",
   "metadata": {},
   "outputs": [
    {
     "data": {
      "text/plain": [
       "array([False, False, False])"
      ]
     },
     "execution_count": 125,
     "metadata": {},
     "output_type": "execute_result"
    }
   ],
   "source": [
    "check_even_col(arr)"
   ]
  },
  {
   "cell_type": "code",
   "execution_count": 126,
   "id": "34f6964c-7370-4efa-9ccf-5fa050cc739f",
   "metadata": {},
   "outputs": [],
   "source": [
    "# 46 Given a NumPy array arr, reshape it into a matrix of dimensions `m` rows and `n` columns. Return the reshaped matrix.\n",
    "original_array = np.array([1, 2, 3, 4, 5, 6])\n",
    "reshaped_array = np.reshape(original_array,(2,3))"
   ]
  },
  {
   "cell_type": "code",
   "execution_count": 127,
   "id": "97e0c2f5-ce30-4ac1-b836-edf8d6033c7b",
   "metadata": {},
   "outputs": [
    {
     "data": {
      "text/plain": [
       "array([[1, 2, 3],\n",
       "       [4, 5, 6]])"
      ]
     },
     "execution_count": 127,
     "metadata": {},
     "output_type": "execute_result"
    }
   ],
   "source": [
    "reshaped_array"
   ]
  },
  {
   "cell_type": "code",
   "execution_count": 128,
   "id": "a0423bd9-e495-4ca1-a7e4-c4b5bb5764ed",
   "metadata": {},
   "outputs": [],
   "source": [
    "# 47 Create a function that takes a matrix as input and returns the flattened array.\n",
    "input_matrix = np.array([[1, 2, 3], [4, 5, 6]])\n",
    "flatten_matrix = input_matrix.flatten() #flatten convert any dimension array into 1-d array."
   ]
  },
  {
   "cell_type": "code",
   "execution_count": 129,
   "id": "090a9f97-1e4f-498b-ab6e-9436f193208c",
   "metadata": {},
   "outputs": [
    {
     "data": {
      "text/plain": [
       "array([[1, 2, 3],\n",
       "       [4, 5, 6]])"
      ]
     },
     "execution_count": 129,
     "metadata": {},
     "output_type": "execute_result"
    }
   ],
   "source": [
    "input_matrix"
   ]
  },
  {
   "cell_type": "code",
   "execution_count": 130,
   "id": "3a52f18d-a6dd-4895-9672-dbf527db15b9",
   "metadata": {},
   "outputs": [
    {
     "data": {
      "text/plain": [
       "array([1, 2, 3, 4, 5, 6])"
      ]
     },
     "execution_count": 130,
     "metadata": {},
     "output_type": "execute_result"
    }
   ],
   "source": [
    "flatten_matrix"
   ]
  },
  {
   "cell_type": "code",
   "execution_count": 131,
   "id": "0eda87bc-4b5d-46cc-ae10-1a9683997f88",
   "metadata": {},
   "outputs": [],
   "source": [
    "# 48 Write a function that concatenates two given arrays along a specified axis.\n",
    "array1 = np.array([[1, 2], [3, 4]])\n",
    "array2 = np.array([[5, 6], [7, 8]])"
   ]
  },
  {
   "cell_type": "code",
   "execution_count": 132,
   "id": "8d2db471-1a48-4242-8bea-3ba4c6620b97",
   "metadata": {},
   "outputs": [
    {
     "data": {
      "text/plain": [
       "array([[1, 2],\n",
       "       [3, 4]])"
      ]
     },
     "execution_count": 132,
     "metadata": {},
     "output_type": "execute_result"
    }
   ],
   "source": [
    "array1"
   ]
  },
  {
   "cell_type": "code",
   "execution_count": 133,
   "id": "4a15b46d-49a0-4f60-a89d-32cd2cdf1f58",
   "metadata": {},
   "outputs": [
    {
     "data": {
      "text/plain": [
       "array([[5, 6],\n",
       "       [7, 8]])"
      ]
     },
     "execution_count": 133,
     "metadata": {},
     "output_type": "execute_result"
    }
   ],
   "source": [
    "array2"
   ]
  },
  {
   "cell_type": "code",
   "execution_count": 134,
   "id": "88a643aa-3a29-4391-adb6-53ca045ccc35",
   "metadata": {},
   "outputs": [],
   "source": [
    "def add_array(arr1,arr2,axis):\n",
    "    return np.concatenate((arr1,arr2),axis=axis)"
   ]
  },
  {
   "cell_type": "code",
   "execution_count": 135,
   "id": "8bccaf94-e149-410b-ad37-505349d8a5a3",
   "metadata": {},
   "outputs": [
    {
     "data": {
      "text/plain": [
       "array([[1, 2],\n",
       "       [3, 4],\n",
       "       [5, 6],\n",
       "       [7, 8]])"
      ]
     },
     "execution_count": 135,
     "metadata": {},
     "output_type": "execute_result"
    }
   ],
   "source": [
    "add_array(array1,array2,0)"
   ]
  },
  {
   "cell_type": "code",
   "execution_count": 136,
   "id": "bbf2ee70-59a4-4385-b5fe-10ccf12739e1",
   "metadata": {},
   "outputs": [
    {
     "data": {
      "text/plain": [
       "array([[1, 2, 5, 6],\n",
       "       [3, 4, 7, 8]])"
      ]
     },
     "execution_count": 136,
     "metadata": {},
     "output_type": "execute_result"
    }
   ],
   "source": [
    "add_array(array1,array2,1)"
   ]
  },
  {
   "cell_type": "code",
   "execution_count": 137,
   "id": "ee7124b2-cc20-44e3-a028-bd90385bdfad",
   "metadata": {},
   "outputs": [
    {
     "data": {
      "text/plain": [
       "array([[1, 2, 3],\n",
       "       [4, 5, 6],\n",
       "       [7, 8, 9]])"
      ]
     },
     "execution_count": 137,
     "metadata": {},
     "output_type": "execute_result"
    }
   ],
   "source": [
    "# 49 Create a function that splits an array into multiple sub-arrays along a specified axis.\n",
    "original_array = np.array([[1, 2, 3], [4, 5, 6], [7, 8, 9]])\n",
    "original_array"
   ]
  },
  {
   "cell_type": "code",
   "execution_count": 138,
   "id": "921b457a-b88d-4ddb-9a0f-2f0948528edc",
   "metadata": {},
   "outputs": [],
   "source": [
    "def split_array(arr1,indices,axis):\n",
    "    return np.split(arr1,indices,axis=axis)"
   ]
  },
  {
   "cell_type": "code",
   "execution_count": 139,
   "id": "d6a31d82-1e99-4afe-b57c-73038e3a200a",
   "metadata": {},
   "outputs": [
    {
     "data": {
      "text/plain": [
       "[array([[1, 2, 3]]), array([[4, 5, 6]]), array([[7, 8, 9]])]"
      ]
     },
     "execution_count": 139,
     "metadata": {},
     "output_type": "execute_result"
    }
   ],
   "source": [
    "split_array(original_array,3,0) # 0(row level) , divide into 3 equal part at row level."
   ]
  },
  {
   "cell_type": "code",
   "execution_count": 140,
   "id": "2e5f6bbf-9419-4c32-9d63-cb6b2ed9b052",
   "metadata": {},
   "outputs": [
    {
     "data": {
      "text/plain": [
       "[array([[1],\n",
       "        [4],\n",
       "        [7]]),\n",
       " array([[2],\n",
       "        [5],\n",
       "        [8]]),\n",
       " array([[3],\n",
       "        [6],\n",
       "        [9]])]"
      ]
     },
     "execution_count": 140,
     "metadata": {},
     "output_type": "execute_result"
    }
   ],
   "source": [
    "split_array(original_array,3,1) # 1(column level) , divide into 3 equal part at column level."
   ]
  },
  {
   "cell_type": "code",
   "execution_count": 141,
   "id": "737935d0-48dd-47bb-a236-7b7b072cea71",
   "metadata": {},
   "outputs": [],
   "source": [
    "# 50 Write a function that inserts and then deletes elements from a given array at specified indices.\n",
    "original_array = np.array([1, 2, 3, 4, 5])\n",
    "indices_to_insert = [2, 4]\n",
    "values_to_insert = [10, 11]\n",
    "indices_to_delete = [1, 3]"
   ]
  },
  {
   "cell_type": "code",
   "execution_count": 142,
   "id": "b2776416-8fb0-478c-a42d-0785e6d7db7b",
   "metadata": {},
   "outputs": [],
   "source": [
    "def modify_array(original_array,indices_to_insert,values_to_insert,indices_to_delete):\n",
    "    indices_to_insert = np.array(indices_to_insert)\n",
    "    values_to_insert = np.array(values_to_insert)\n",
    "    indices_to_delete = np.array(indices_to_delete)\n",
    "    modified_array = np.insert(original_array,indices_to_insert,values_to_insert)\n",
    "    indices_to_delete = np.array([idx for idx in indices_to_delete if idx<len(modified_array)])\n",
    "    modified_array = np.delete(modified_array,indices_to_delete)\n",
    "    return modified_array"
   ]
  },
  {
   "cell_type": "code",
   "execution_count": 143,
   "id": "7f872da6-166b-4451-b9c0-a7d607eea380",
   "metadata": {},
   "outputs": [
    {
     "data": {
      "text/plain": [
       "array([ 1, 10,  4, 11,  5])"
      ]
     },
     "execution_count": 143,
     "metadata": {},
     "output_type": "execute_result"
    }
   ],
   "source": [
    "modify_array(original_array,indices_to_insert,values_to_insert,indices_to_delete)"
   ]
  },
  {
   "cell_type": "code",
   "execution_count": 144,
   "id": "c29ae0d6-0b36-44cc-872f-a801a331a763",
   "metadata": {},
   "outputs": [],
   "source": [
    "# 51 Create a NumPy array `arr1` with random integers and another array `arr2` with integers from 1 to 10.\n",
    "# Perform element-wise addition between `arr1` and `arr2`.\n",
    "arr1 = np.random.randint(1,10,(10))\n",
    "arr2 = np.arange(1,11)"
   ]
  },
  {
   "cell_type": "code",
   "execution_count": 145,
   "id": "8c4caec3-b7c6-4f5c-88ed-29ebf6268094",
   "metadata": {},
   "outputs": [
    {
     "data": {
      "text/plain": [
       "array([1, 1, 2, 8, 2, 5, 4, 5, 7, 4])"
      ]
     },
     "execution_count": 145,
     "metadata": {},
     "output_type": "execute_result"
    }
   ],
   "source": [
    "arr1"
   ]
  },
  {
   "cell_type": "code",
   "execution_count": 146,
   "id": "3574eb22-cbbb-4279-ac19-49c266c0bb7a",
   "metadata": {},
   "outputs": [
    {
     "data": {
      "text/plain": [
       "array([ 1,  2,  3,  4,  5,  6,  7,  8,  9, 10])"
      ]
     },
     "execution_count": 146,
     "metadata": {},
     "output_type": "execute_result"
    }
   ],
   "source": [
    "arr2"
   ]
  },
  {
   "cell_type": "code",
   "execution_count": 147,
   "id": "838f5aaf-fcd7-4eb5-9a75-41746b418c80",
   "metadata": {},
   "outputs": [
    {
     "data": {
      "text/plain": [
       "array([ 2,  3,  5, 12,  7, 11, 11, 13, 16, 14])"
      ]
     },
     "execution_count": 147,
     "metadata": {},
     "output_type": "execute_result"
    }
   ],
   "source": [
    "arr1 + arr2"
   ]
  },
  {
   "cell_type": "code",
   "execution_count": 148,
   "id": "1fa0cea0-340f-4282-a32a-23797325ed00",
   "metadata": {},
   "outputs": [],
   "source": [
    "# 52 Generate a NumPy array `arr1` with sequential integers from 10 to 1 and another array `arr2` with integers from 1 to 10. \n",
    "# Subtract `arr2` from `arr1` element-wise.\n",
    "arr1 = np.arange(10,0,-1)\n",
    "arr2 = np.arange(1,11)"
   ]
  },
  {
   "cell_type": "code",
   "execution_count": 149,
   "id": "063edbfa-de61-45af-87c6-21558cb448bb",
   "metadata": {},
   "outputs": [
    {
     "data": {
      "text/plain": [
       "array([10,  9,  8,  7,  6,  5,  4,  3,  2,  1])"
      ]
     },
     "execution_count": 149,
     "metadata": {},
     "output_type": "execute_result"
    }
   ],
   "source": [
    "arr1"
   ]
  },
  {
   "cell_type": "code",
   "execution_count": 150,
   "id": "2150d76c-3699-4063-8171-19e9d8a4a611",
   "metadata": {},
   "outputs": [
    {
     "data": {
      "text/plain": [
       "array([ 1,  2,  3,  4,  5,  6,  7,  8,  9, 10])"
      ]
     },
     "execution_count": 150,
     "metadata": {},
     "output_type": "execute_result"
    }
   ],
   "source": [
    "arr2"
   ]
  },
  {
   "cell_type": "code",
   "execution_count": 151,
   "id": "23816416-85cd-424f-bccc-82a823f66cdc",
   "metadata": {},
   "outputs": [
    {
     "data": {
      "text/plain": [
       "array([-9, -7, -5, -3, -1,  1,  3,  5,  7,  9])"
      ]
     },
     "execution_count": 151,
     "metadata": {},
     "output_type": "execute_result"
    }
   ],
   "source": [
    "arr2 - arr1"
   ]
  },
  {
   "cell_type": "code",
   "execution_count": 152,
   "id": "9df3a117-0d59-4128-8363-f6b83d35a21f",
   "metadata": {},
   "outputs": [],
   "source": [
    "# 53 Create a NumPy array `arr1` with random integers and another array `arr2` with integers from 1 to 5. \n",
    "# Perform element-wise multiplication between `arr1` and `arr2`.\n",
    "arr1 = np.random.randint(1,6,(5))\n",
    "arr2 = np.arange(1,6)"
   ]
  },
  {
   "cell_type": "code",
   "execution_count": 153,
   "id": "ab13c20b-8bcf-4c1a-bd55-7bd016cb73d9",
   "metadata": {},
   "outputs": [
    {
     "data": {
      "text/plain": [
       "array([5, 1, 4, 3, 4])"
      ]
     },
     "execution_count": 153,
     "metadata": {},
     "output_type": "execute_result"
    }
   ],
   "source": [
    "arr1"
   ]
  },
  {
   "cell_type": "code",
   "execution_count": 154,
   "id": "1c24bab2-c8b2-457d-bd86-1f380820710f",
   "metadata": {},
   "outputs": [
    {
     "data": {
      "text/plain": [
       "array([1, 2, 3, 4, 5])"
      ]
     },
     "execution_count": 154,
     "metadata": {},
     "output_type": "execute_result"
    }
   ],
   "source": [
    "arr2"
   ]
  },
  {
   "cell_type": "code",
   "execution_count": 155,
   "id": "3ce0b967-a078-415e-9939-744166f197e4",
   "metadata": {},
   "outputs": [
    {
     "data": {
      "text/plain": [
       "array([ 5,  2, 12, 12, 20])"
      ]
     },
     "execution_count": 155,
     "metadata": {},
     "output_type": "execute_result"
    }
   ],
   "source": [
    "arr1 * arr2"
   ]
  },
  {
   "cell_type": "code",
   "execution_count": 156,
   "id": "f32da8d7-d7f9-4d18-b3fa-a8d773a2e9ed",
   "metadata": {},
   "outputs": [],
   "source": [
    "# 54 Generate a NumPy array `arr1` with even integers from 2 to 10 and another array `arr2` with integers from 1 to 5. \n",
    "#Perform element-wise division of `arr1` by `arr2`.\n",
    "arr1 = np.arange(2,11,2)\n",
    "arr2 = np.arange(1,6)"
   ]
  },
  {
   "cell_type": "code",
   "execution_count": 157,
   "id": "b4aedd75-6c76-456f-b938-c30b67cf0894",
   "metadata": {},
   "outputs": [
    {
     "data": {
      "text/plain": [
       "array([ 2,  4,  6,  8, 10])"
      ]
     },
     "execution_count": 157,
     "metadata": {},
     "output_type": "execute_result"
    }
   ],
   "source": [
    "arr1"
   ]
  },
  {
   "cell_type": "code",
   "execution_count": 158,
   "id": "119f43e7-5b2e-4ba3-95af-30a6096e456b",
   "metadata": {},
   "outputs": [
    {
     "data": {
      "text/plain": [
       "array([1, 2, 3, 4, 5])"
      ]
     },
     "execution_count": 158,
     "metadata": {},
     "output_type": "execute_result"
    }
   ],
   "source": [
    "arr2"
   ]
  },
  {
   "cell_type": "code",
   "execution_count": 159,
   "id": "0210771b-7578-4ff9-bfa9-45fb3624d019",
   "metadata": {},
   "outputs": [
    {
     "data": {
      "text/plain": [
       "array([2., 2., 2., 2., 2.])"
      ]
     },
     "execution_count": 159,
     "metadata": {},
     "output_type": "execute_result"
    }
   ],
   "source": [
    "arr1 / arr2"
   ]
  },
  {
   "cell_type": "code",
   "execution_count": 160,
   "id": "91cbe476-6766-496e-8e79-2e5789716bbe",
   "metadata": {},
   "outputs": [],
   "source": [
    "# 55 Create a NumPy array `arr1` with integers from 1 to 5 and another array `arr2` with the same numbers reversed. \n",
    "# Calculate the exponentiation of `arr1` raised to the power of `arr2` element-wise.\n",
    "arr1 = np.arange(1,6)\n",
    "arr2 = np.arange(5,0,-1)"
   ]
  },
  {
   "cell_type": "code",
   "execution_count": 161,
   "id": "3071d564-b040-4ffa-9aae-3be487803c5d",
   "metadata": {},
   "outputs": [
    {
     "data": {
      "text/plain": [
       "array([1, 2, 3, 4, 5])"
      ]
     },
     "execution_count": 161,
     "metadata": {},
     "output_type": "execute_result"
    }
   ],
   "source": [
    "arr1"
   ]
  },
  {
   "cell_type": "code",
   "execution_count": 162,
   "id": "dbcca047-3020-46c0-819a-7a5d4c1a1417",
   "metadata": {},
   "outputs": [
    {
     "data": {
      "text/plain": [
       "array([5, 4, 3, 2, 1])"
      ]
     },
     "execution_count": 162,
     "metadata": {},
     "output_type": "execute_result"
    }
   ],
   "source": [
    "arr2"
   ]
  },
  {
   "cell_type": "code",
   "execution_count": 163,
   "id": "5d9f5545-1d7a-417b-acc4-39724940970d",
   "metadata": {},
   "outputs": [
    {
     "data": {
      "text/plain": [
       "array([ 1, 16, 27, 16,  5])"
      ]
     },
     "execution_count": 163,
     "metadata": {},
     "output_type": "execute_result"
    }
   ],
   "source": [
    "np.power(arr1,arr2)"
   ]
  },
  {
   "cell_type": "code",
   "execution_count": 164,
   "id": "5644eaf8-680a-456b-8efc-f7cef6e3924d",
   "metadata": {},
   "outputs": [],
   "source": [
    "# 56 Write a function that counts the occurrences of a specific substring within a NumPy array of strings.\n",
    "arr = np.array(['hello', 'world', 'hello', 'numpy', 'hello'])"
   ]
  },
  {
   "cell_type": "code",
   "execution_count": 165,
   "id": "c95b0fbb-101e-443e-8930-c50749d68f30",
   "metadata": {},
   "outputs": [],
   "source": [
    "sub = \"hello\"\n",
    "def count_substring_occurrences(array, substring):\n",
    "    total_count = 0\n",
    "    for string in array:\n",
    "        total_count += string.count(substring)\n",
    "    return total_count"
   ]
  },
  {
   "cell_type": "code",
   "execution_count": 166,
   "id": "9199148b-beff-4df2-9b87-62bba2474e00",
   "metadata": {},
   "outputs": [
    {
     "data": {
      "text/plain": [
       "3"
      ]
     },
     "execution_count": 166,
     "metadata": {},
     "output_type": "execute_result"
    }
   ],
   "source": [
    "count_substring_occurrences(arr, sub)"
   ]
  },
  {
   "cell_type": "code",
   "execution_count": 167,
   "id": "d06327cd-1672-47be-bd16-671723675051",
   "metadata": {},
   "outputs": [],
   "source": [
    "# 57 Write a function that extracts uppercase characters from a NumPy array of strings.\n",
    "arr = np.array(['Hello', 'World', 'OpenAI', 'GPT'])\n",
    "def extract_upper(arr):\n",
    "    upper_char =[char for string in arr for char in string if char.isupper()]\n",
    "    return upper_char "
   ]
  },
  {
   "cell_type": "code",
   "execution_count": 168,
   "id": "7874202c-e507-4c73-8071-6031721b9094",
   "metadata": {},
   "outputs": [
    {
     "data": {
      "text/plain": [
       "['H', 'W', 'O', 'A', 'I', 'G', 'P', 'T']"
      ]
     },
     "execution_count": 168,
     "metadata": {},
     "output_type": "execute_result"
    }
   ],
   "source": [
    "extract_upper(arr)"
   ]
  },
  {
   "cell_type": "code",
   "execution_count": 169,
   "id": "f050cbf0-bd47-4966-9366-44d888db16e7",
   "metadata": {},
   "outputs": [],
   "source": [
    "# 58  Write a function that replaces occurrences of a substring in a NumPy array of strings with a new string.\n",
    "arr = np.array(['apple', 'banana', 'grape', 'pineapple'])\n",
    "old_substring = 'grape'\n",
    "new_substring = 'mango'\n",
    "def replace_substring(arr,old_substring,new_substring):\n",
    "    modified_array = ([string.replace(old_substring,new_substring) for string in arr])\n",
    "    return modified_array"
   ]
  },
  {
   "cell_type": "code",
   "execution_count": 170,
   "id": "c8c3fcd2-f672-432f-ab37-9f8ba471eb46",
   "metadata": {},
   "outputs": [
    {
     "data": {
      "text/plain": [
       "['apple', 'banana', 'mango', 'pineapple']"
      ]
     },
     "execution_count": 170,
     "metadata": {},
     "output_type": "execute_result"
    }
   ],
   "source": [
    "replace_substring(arr,old_substring,new_substring)"
   ]
  },
  {
   "cell_type": "code",
   "execution_count": 171,
   "id": "d4a0d736-2990-4757-a42b-edc3e43484cd",
   "metadata": {},
   "outputs": [
    {
     "data": {
      "text/plain": [
       "['mango', 'apple', 'banana', 'mango', 'pineapple', 'mango']"
      ]
     },
     "execution_count": 171,
     "metadata": {},
     "output_type": "execute_result"
    }
   ],
   "source": [
    "arr = np.array(['grape','apple', 'banana', 'grape', 'pineapple','grape'])\n",
    "old_substring = 'grape'\n",
    "new_substring = 'mango'\n",
    "replace_substring(arr,old_substring,new_substring)"
   ]
  },
  {
   "cell_type": "code",
   "execution_count": 172,
   "id": "24fc9a30-5c3f-4d56-a69b-fe14866eb6c8",
   "metadata": {},
   "outputs": [],
   "source": [
    "# 59 Write a function that concatenates strings in a NumPy array element-wise.\n",
    "arr1 = np.array(['Hello', 'World'])\n",
    "arr2 = np.array(['Open', 'AI'])\n",
    "def concat_elementwise(arr1,arr2):\n",
    "    if arr1.shape != arr2.shape:\n",
    "        print(\"both array must have the same shaoe\")\n",
    "    concat_arr = np.char.add(arr1,arr2)\n",
    "    return concat_arr"
   ]
  },
  {
   "cell_type": "code",
   "execution_count": 173,
   "id": "8385b302-6a01-4478-9e3b-68a06b68ad23",
   "metadata": {},
   "outputs": [
    {
     "data": {
      "text/plain": [
       "array(['HelloOpen', 'WorldAI'], dtype='<U9')"
      ]
     },
     "execution_count": 173,
     "metadata": {},
     "output_type": "execute_result"
    }
   ],
   "source": [
    "concat_elementwise(arr1,arr2)"
   ]
  },
  {
   "cell_type": "code",
   "execution_count": 174,
   "id": "52eff64d-4027-49b8-9569-a8cd1d5a655f",
   "metadata": {},
   "outputs": [],
   "source": [
    "# 60  Write a function that finds the length of the longest string in a NumPy array.\n",
    "arr = np.array(['apple', 'banana', 'grape', 'pineapple'])\n",
    "def max_lenght(arr):\n",
    "    char_len = []\n",
    "    for string in arr:\n",
    "        lenght = len(string)\n",
    "        char_len.append(lenght)\n",
    "    max = np.max(char_len)\n",
    "    return max"
   ]
  },
  {
   "cell_type": "code",
   "execution_count": 175,
   "id": "cd848429-ccb9-4547-a36d-1d93bc0ddc38",
   "metadata": {},
   "outputs": [
    {
     "data": {
      "text/plain": [
       "9"
      ]
     },
     "execution_count": 175,
     "metadata": {},
     "output_type": "execute_result"
    }
   ],
   "source": [
    "max_lenght(arr)"
   ]
  },
  {
   "cell_type": "code",
   "execution_count": 176,
   "id": "ef761581-c72f-4e24-852a-d31bfbf24056",
   "metadata": {},
   "outputs": [
    {
     "data": {
      "text/plain": [
       "21"
      ]
     },
     "execution_count": 176,
     "metadata": {},
     "output_type": "execute_result"
    }
   ],
   "source": [
    "arr = np.array(['orange juice', 'banana shake or juice', 'grape juice', 'pineapple juice'])\n",
    "max_lenght(arr)"
   ]
  },
  {
   "cell_type": "code",
   "execution_count": 177,
   "id": "9c640470-6118-4f7b-8822-a65126571746",
   "metadata": {},
   "outputs": [],
   "source": [
    "# 61 Create a dataset of 100 random integers between 1 and 1000. Compute the mean, median, variance, and standard deviation of the dataset \n",
    "# using NumPy's functions.\n",
    "arr = np.random.randint(1,1001,100)"
   ]
  },
  {
   "cell_type": "code",
   "execution_count": 178,
   "id": "007a2776-7e72-44a5-b9c9-3d8bfa392c38",
   "metadata": {},
   "outputs": [
    {
     "data": {
      "text/plain": [
       "array([386, 825, 996, 219,  95, 208, 861,  19, 700, 499, 284, 213, 806,\n",
       "       416, 990, 740, 478, 587, 478, 985, 123,  76,  11, 493, 814, 880,\n",
       "       553,  65, 839, 704, 663, 627, 755, 446, 232, 783, 440, 493, 430,\n",
       "       871, 445, 324,  59, 637, 217, 899, 120, 848, 408, 934, 439, 433,\n",
       "       458, 417, 766,   2, 460,  64, 946, 746, 355, 477, 749, 507, 195,\n",
       "       516,  67,  61, 626, 159, 707, 943, 574, 503,   2, 793, 151,  54,\n",
       "       250, 877, 202, 358, 610, 101,  13, 289, 497, 261, 313, 975, 225,\n",
       "       110,  81, 426, 393, 473, 584, 365, 798, 656])"
      ]
     },
     "execution_count": 178,
     "metadata": {},
     "output_type": "execute_result"
    }
   ],
   "source": [
    "arr"
   ]
  },
  {
   "cell_type": "code",
   "execution_count": 179,
   "id": "a22cdba2-72d7-4fe8-9349-5f452baa98e3",
   "metadata": {},
   "outputs": [
    {
     "data": {
      "text/plain": [
       "470.01"
      ]
     },
     "execution_count": 179,
     "metadata": {},
     "output_type": "execute_result"
    }
   ],
   "source": [
    "np.mean(arr)"
   ]
  },
  {
   "cell_type": "code",
   "execution_count": 180,
   "id": "dc8ae813-f50f-4867-a156-8fe6376771e5",
   "metadata": {},
   "outputs": [
    {
     "data": {
      "text/plain": [
       "459.0"
      ]
     },
     "execution_count": 180,
     "metadata": {},
     "output_type": "execute_result"
    }
   ],
   "source": [
    "np.median(arr)"
   ]
  },
  {
   "cell_type": "code",
   "execution_count": 181,
   "id": "1c758aa9-fa6b-43bb-bab8-f7d5c9a6212e",
   "metadata": {},
   "outputs": [
    {
     "data": {
      "text/plain": [
       "83048.8699"
      ]
     },
     "execution_count": 181,
     "metadata": {},
     "output_type": "execute_result"
    }
   ],
   "source": [
    "np.var(arr)"
   ]
  },
  {
   "cell_type": "code",
   "execution_count": 182,
   "id": "ef60df08-6e4d-477d-9e6c-826cff7a73b7",
   "metadata": {},
   "outputs": [
    {
     "data": {
      "text/plain": [
       "288.18200828643"
      ]
     },
     "execution_count": 182,
     "metadata": {},
     "output_type": "execute_result"
    }
   ],
   "source": [
    "np.std(arr)"
   ]
  },
  {
   "cell_type": "code",
   "execution_count": 183,
   "id": "7279695d-95ed-4c3c-99d3-84fb3b7e2d1d",
   "metadata": {},
   "outputs": [],
   "source": [
    "# 62 Generate an array of 50 random numbers between 1 and 100. Find the 25th and 75th percentiles of the dataset.\n",
    "arr = np.random.randint(1,100,50)"
   ]
  },
  {
   "cell_type": "code",
   "execution_count": 184,
   "id": "c2db54d6-8c66-4a2b-9f14-17ab82e36da3",
   "metadata": {},
   "outputs": [
    {
     "data": {
      "text/plain": [
       "array([79, 41, 87, 10, 41, 74, 36, 83, 31, 86, 63, 72,  2, 34, 22, 87, 12,\n",
       "       78, 72, 45, 30, 15, 40,  3, 53, 63, 64, 17, 10, 81, 66, 84, 25, 85,\n",
       "       86, 83, 15, 20, 32, 56, 93, 37, 37, 13, 49, 66, 86, 81, 77, 18])"
      ]
     },
     "execution_count": 184,
     "metadata": {},
     "output_type": "execute_result"
    }
   ],
   "source": [
    "arr"
   ]
  },
  {
   "cell_type": "code",
   "execution_count": 185,
   "id": "2da48a26-2056-42cf-92a8-a78db2008810",
   "metadata": {},
   "outputs": [
    {
     "data": {
      "text/plain": [
       "26.25"
      ]
     },
     "execution_count": 185,
     "metadata": {},
     "output_type": "execute_result"
    }
   ],
   "source": [
    "np.percentile(arr,25)"
   ]
  },
  {
   "cell_type": "code",
   "execution_count": 186,
   "id": "4d84eace-982d-495e-9801-4b50c0c99f1e",
   "metadata": {},
   "outputs": [
    {
     "data": {
      "text/plain": [
       "78.75"
      ]
     },
     "execution_count": 186,
     "metadata": {},
     "output_type": "execute_result"
    }
   ],
   "source": [
    "np.percentile(arr,75)"
   ]
  },
  {
   "cell_type": "code",
   "execution_count": 187,
   "id": "239520f0-49a3-4651-bf16-e983e6e5de1b",
   "metadata": {},
   "outputs": [],
   "source": [
    "# 63 Create two arrays representing two sets of variables. Compute the correlation coefficient between these arrays using NumPy's `corrcoef` function.\n",
    "arr1 = np.random.randint(1,50,10)\n",
    "arr2 = np.random.randint(1,50,10)"
   ]
  },
  {
   "cell_type": "code",
   "execution_count": 188,
   "id": "dab959ff-1115-4018-8963-be31d714fa2e",
   "metadata": {},
   "outputs": [
    {
     "data": {
      "text/plain": [
       "array([22, 23,  7, 25,  5, 13,  7, 35, 43, 46])"
      ]
     },
     "execution_count": 188,
     "metadata": {},
     "output_type": "execute_result"
    }
   ],
   "source": [
    "arr1"
   ]
  },
  {
   "cell_type": "code",
   "execution_count": 189,
   "id": "48123fb1-9c0b-4bdb-a3cf-b5b83aa6e5d0",
   "metadata": {},
   "outputs": [
    {
     "data": {
      "text/plain": [
       "array([22, 40, 10, 33, 48,  6, 13, 38,  8,  6])"
      ]
     },
     "execution_count": 189,
     "metadata": {},
     "output_type": "execute_result"
    }
   ],
   "source": [
    "arr2"
   ]
  },
  {
   "cell_type": "code",
   "execution_count": 190,
   "id": "b6616bb6-409e-4f83-867c-81a5c2f6d173",
   "metadata": {},
   "outputs": [],
   "source": [
    "correlation_matrix = np.corrcoef(arr1,arr2)"
   ]
  },
  {
   "cell_type": "code",
   "execution_count": 191,
   "id": "3a9cb01d-fde0-4c59-9c41-0ea1fb288d96",
   "metadata": {},
   "outputs": [
    {
     "data": {
      "text/plain": [
       "array([[ 1.        , -0.18762835],\n",
       "       [-0.18762835,  1.        ]])"
      ]
     },
     "execution_count": 191,
     "metadata": {},
     "output_type": "execute_result"
    }
   ],
   "source": [
    "correlation_matrix"
   ]
  },
  {
   "cell_type": "code",
   "execution_count": 192,
   "id": "14f22277-d757-4c63-8a29-b5b03e54b9d5",
   "metadata": {},
   "outputs": [],
   "source": [
    "correlation_coefficient = correlation_matrix[0, 1] # [0,1] also gave same result >> means 2nd element of 1st row.\n",
    "#correlation_coefficient = correlation_matrix[1, 0] # [1,0] also gave same result >> means 1st element of 2st row."
   ]
  },
  {
   "cell_type": "code",
   "execution_count": 193,
   "id": "5f046b97-c694-4591-a5aa-a13e2f3af2b0",
   "metadata": {},
   "outputs": [
    {
     "data": {
      "text/plain": [
       "-0.1876283501583102"
      ]
     },
     "execution_count": 193,
     "metadata": {},
     "output_type": "execute_result"
    }
   ],
   "source": [
    "correlation_coefficient"
   ]
  },
  {
   "cell_type": "code",
   "execution_count": 194,
   "id": "6bb1cb1a-1566-4073-b7d7-71973b41b7a9",
   "metadata": {},
   "outputs": [],
   "source": [
    "# 64 Create two matrices and perform matrix multiplication using NumPy's `dot` function.\n",
    "matrix1 = np.random.randint(1,8,(2,3))\n",
    "matrix2 = np.random.randint(1,8,(3,2))"
   ]
  },
  {
   "cell_type": "code",
   "execution_count": 195,
   "id": "f58fba86-875b-4e2b-b146-a8f8b080ca04",
   "metadata": {},
   "outputs": [
    {
     "data": {
      "text/plain": [
       "array([[2, 4, 6],\n",
       "       [5, 3, 1]])"
      ]
     },
     "execution_count": 195,
     "metadata": {},
     "output_type": "execute_result"
    }
   ],
   "source": [
    "matrix1"
   ]
  },
  {
   "cell_type": "code",
   "execution_count": 196,
   "id": "5e5763dc-da1c-4eb9-8507-cd761a6e64a3",
   "metadata": {},
   "outputs": [
    {
     "data": {
      "text/plain": [
       "array([[6, 4],\n",
       "       [7, 3],\n",
       "       [1, 5]])"
      ]
     },
     "execution_count": 196,
     "metadata": {},
     "output_type": "execute_result"
    }
   ],
   "source": [
    "matrix2"
   ]
  },
  {
   "cell_type": "code",
   "execution_count": 197,
   "id": "82527021-7662-462c-b8a5-11424af7942b",
   "metadata": {},
   "outputs": [
    {
     "data": {
      "text/plain": [
       "array([[46, 50],\n",
       "       [52, 34]])"
      ]
     },
     "execution_count": 197,
     "metadata": {},
     "output_type": "execute_result"
    }
   ],
   "source": [
    "np.dot(matrix1,matrix2)"
   ]
  },
  {
   "cell_type": "code",
   "execution_count": 198,
   "id": "e8860c57-0127-415a-833d-c4153700ed83",
   "metadata": {},
   "outputs": [],
   "source": [
    "# 65 Create an array of 50 integers between 10 and 1000. Calculate the 10th, 50th (median), and 90th percentiles along with the first and third quartiles.\n",
    "arr = np.random.randint(10,100,50)"
   ]
  },
  {
   "cell_type": "code",
   "execution_count": 199,
   "id": "9f3bcc52-b7d4-4cf1-9516-edf829380e31",
   "metadata": {},
   "outputs": [
    {
     "data": {
      "text/plain": [
       "array([96, 27, 58, 74, 76, 84, 16, 90, 31, 15, 15, 17, 58, 57, 39, 16, 30,\n",
       "       92, 66, 40, 75, 96, 43, 39, 51, 47, 95, 24, 11, 97, 54, 48, 27, 84,\n",
       "       95, 16, 94, 21, 40, 80, 50, 33, 71, 89, 27, 42, 70, 11, 30, 84])"
      ]
     },
     "execution_count": 199,
     "metadata": {},
     "output_type": "execute_result"
    }
   ],
   "source": [
    "arr"
   ]
  },
  {
   "cell_type": "code",
   "execution_count": 200,
   "id": "5bb4a27e-6d88-49de-b098-271f8e254171",
   "metadata": {},
   "outputs": [
    {
     "data": {
      "text/plain": [
       "16.0"
      ]
     },
     "execution_count": 200,
     "metadata": {},
     "output_type": "execute_result"
    }
   ],
   "source": [
    "np.percentile(arr,10)"
   ]
  },
  {
   "cell_type": "code",
   "execution_count": 201,
   "id": "2b7bb27f-eda5-457b-aa07-af0dcfa4833e",
   "metadata": {},
   "outputs": [
    {
     "data": {
      "text/plain": [
       "49.0"
      ]
     },
     "execution_count": 201,
     "metadata": {},
     "output_type": "execute_result"
    }
   ],
   "source": [
    "np.percentile(arr,50) #for 50th percentile you can also use np.median() give same result."
   ]
  },
  {
   "cell_type": "code",
   "execution_count": 202,
   "id": "c1ae8747-6f12-405d-9d45-d2db465f7f0e",
   "metadata": {},
   "outputs": [
    {
     "data": {
      "text/plain": [
       "49.0"
      ]
     },
     "execution_count": 202,
     "metadata": {},
     "output_type": "execute_result"
    }
   ],
   "source": [
    "np.median(arr) "
   ]
  },
  {
   "cell_type": "code",
   "execution_count": 203,
   "id": "16697dda-48af-4759-b8a9-92ecd6911968",
   "metadata": {},
   "outputs": [
    {
     "data": {
      "text/plain": [
       "94.1"
      ]
     },
     "execution_count": 203,
     "metadata": {},
     "output_type": "execute_result"
    }
   ],
   "source": [
    "np.percentile(arr,90)"
   ]
  },
  {
   "cell_type": "code",
   "execution_count": 204,
   "id": "0982289d-ad06-4d6b-bf6d-4e054a5ec945",
   "metadata": {},
   "outputs": [
    {
     "data": {
      "text/plain": [
       "27.75"
      ]
     },
     "execution_count": 204,
     "metadata": {},
     "output_type": "execute_result"
    }
   ],
   "source": [
    "np.percentile(arr,25) # 1st quartile"
   ]
  },
  {
   "cell_type": "code",
   "execution_count": 205,
   "id": "5ed5bb89-0803-426f-a60c-18ae502208f1",
   "metadata": {},
   "outputs": [
    {
     "data": {
      "text/plain": [
       "79.0"
      ]
     },
     "execution_count": 205,
     "metadata": {},
     "output_type": "execute_result"
    }
   ],
   "source": [
    "np.percentile(arr,75) # 3rd quartile"
   ]
  },
  {
   "cell_type": "code",
   "execution_count": 206,
   "id": "8992c96f-8017-430c-b522-0a59a343e1cb",
   "metadata": {},
   "outputs": [],
   "source": [
    "# 66 Create a NumPy array of integers and find the index of a specific element.\n",
    "arr = np.random.randint(10,100,10)"
   ]
  },
  {
   "cell_type": "code",
   "execution_count": 207,
   "id": "f9893f03-6e05-4c52-8522-bb71d8582404",
   "metadata": {},
   "outputs": [
    {
     "data": {
      "text/plain": [
       "array([10, 21, 27, 69, 49, 46, 80, 68, 90, 64])"
      ]
     },
     "execution_count": 207,
     "metadata": {},
     "output_type": "execute_result"
    }
   ],
   "source": [
    "arr"
   ]
  },
  {
   "cell_type": "code",
   "execution_count": 208,
   "id": "45f0c2ee-09e5-4747-8984-fec9974070a9",
   "metadata": {},
   "outputs": [
    {
     "data": {
      "text/plain": [
       "(array([3], dtype=int64),)"
      ]
     },
     "execution_count": 208,
     "metadata": {},
     "output_type": "execute_result"
    }
   ],
   "source": [
    "np.where(arr == 69) # indices of 69 is 5."
   ]
  },
  {
   "cell_type": "code",
   "execution_count": 209,
   "id": "3637f31e-4ea6-487c-ad01-c09c4fa8607e",
   "metadata": {},
   "outputs": [],
   "source": [
    "# 67 Generate a random NumPy array and sort it in ascending order.\n",
    "arr = np.random.randint(5,50,10)"
   ]
  },
  {
   "cell_type": "code",
   "execution_count": 210,
   "id": "cd01cad6-5eed-479f-b4ad-107ee36610e1",
   "metadata": {},
   "outputs": [
    {
     "data": {
      "text/plain": [
       "array([20,  6, 28,  5, 11, 41, 39, 36, 38, 39])"
      ]
     },
     "execution_count": 210,
     "metadata": {},
     "output_type": "execute_result"
    }
   ],
   "source": [
    "arr"
   ]
  },
  {
   "cell_type": "code",
   "execution_count": 211,
   "id": "45ae46f2-4ede-4910-946b-89758bcf5162",
   "metadata": {},
   "outputs": [
    {
     "data": {
      "text/plain": [
       "array([ 5,  6, 11, 20, 28, 36, 38, 39, 39, 41])"
      ]
     },
     "execution_count": 211,
     "metadata": {},
     "output_type": "execute_result"
    }
   ],
   "source": [
    "np.sort(arr)"
   ]
  },
  {
   "cell_type": "code",
   "execution_count": 212,
   "id": "0e8de2e0-9e9f-414b-b7e2-b6b2e31e2de0",
   "metadata": {},
   "outputs": [],
   "source": [
    "# 68 Filter elements >20  in the given NumPy array.\n",
    "arr = np.array([12, 25, 6, 42, 8, 30])"
   ]
  },
  {
   "cell_type": "code",
   "execution_count": 213,
   "id": "464d3085-7d7a-4794-ba49-4a4f4d5de0cf",
   "metadata": {},
   "outputs": [
    {
     "data": {
      "text/plain": [
       "array([12, 25,  6, 42,  8, 30])"
      ]
     },
     "execution_count": 213,
     "metadata": {},
     "output_type": "execute_result"
    }
   ],
   "source": [
    "arr"
   ]
  },
  {
   "cell_type": "code",
   "execution_count": 214,
   "id": "5ee8888b-7698-4f34-814c-123407780bc7",
   "metadata": {},
   "outputs": [
    {
     "data": {
      "text/plain": [
       "array([25, 42, 30])"
      ]
     },
     "execution_count": 214,
     "metadata": {},
     "output_type": "execute_result"
    }
   ],
   "source": [
    "arr[arr>20]"
   ]
  },
  {
   "cell_type": "code",
   "execution_count": 215,
   "id": "df62ec69-722b-4aeb-b57c-fd924bff622d",
   "metadata": {},
   "outputs": [],
   "source": [
    "# 69 Filter elements which are divisible by 3 from a given NumPy array.\n",
    "arr = np.array([1, 5, 8, 12, 15])"
   ]
  },
  {
   "cell_type": "code",
   "execution_count": 216,
   "id": "0c22fbf9-fbf9-4891-ad9d-3b56a93b4aac",
   "metadata": {},
   "outputs": [
    {
     "data": {
      "text/plain": [
       "array([ 1,  5,  8, 12, 15])"
      ]
     },
     "execution_count": 216,
     "metadata": {},
     "output_type": "execute_result"
    }
   ],
   "source": [
    "arr"
   ]
  },
  {
   "cell_type": "code",
   "execution_count": 217,
   "id": "257d7176-4550-42fb-91d1-e733e2480be5",
   "metadata": {},
   "outputs": [
    {
     "data": {
      "text/plain": [
       "array([12, 15])"
      ]
     },
     "execution_count": 217,
     "metadata": {},
     "output_type": "execute_result"
    }
   ],
   "source": [
    "arr[arr%3==0]"
   ]
  },
  {
   "cell_type": "code",
   "execution_count": 218,
   "id": "f1b68fc9-5ec1-4d1d-a7b5-0bdb4945634f",
   "metadata": {},
   "outputs": [],
   "source": [
    "# 70 Filter elements which are ≥ 20 and ≤ 40 from a given NumPy array.\n",
    "arr = np.array([10, 20, 30, 40, 50])"
   ]
  },
  {
   "cell_type": "code",
   "execution_count": 219,
   "id": "33de35b7-ae7f-4aa3-9f5d-be4ab878a09a",
   "metadata": {},
   "outputs": [
    {
     "data": {
      "text/plain": [
       "array([10, 20, 30, 40, 50])"
      ]
     },
     "execution_count": 219,
     "metadata": {},
     "output_type": "execute_result"
    }
   ],
   "source": [
    "arr"
   ]
  },
  {
   "cell_type": "code",
   "execution_count": 220,
   "id": "7fa628d9-2c22-46b1-a600-363d754cbf0e",
   "metadata": {},
   "outputs": [
    {
     "data": {
      "text/plain": [
       "array([20, 30, 40])"
      ]
     },
     "execution_count": 220,
     "metadata": {},
     "output_type": "execute_result"
    }
   ],
   "source": [
    "arr[(arr>=20) & (arr<=40)]"
   ]
  },
  {
   "cell_type": "code",
   "execution_count": 221,
   "id": "c31d08f7-a469-417b-bcc8-243eb701ead6",
   "metadata": {},
   "outputs": [],
   "source": [
    "# byteorder returns the byte order of the data type:\n",
    "# '<' for little-endian\n",
    "# '>' for big-endian\n",
    "# '=' for native byte order (the byte order used by the system)\n",
    "# '|' for the machine's native byte order (which is the same as =)\n",
    "# For the default data types (like integers in most cases), NumPy uses the native byte order of the system unless explicitly specified otherwise. \n",
    "# Therefore, in many environments, the output would be '=', indicating native byte order.\n",
    "\n",
    "# 71 For the given NumPy array, check its byte order using the `dtype` attribute byteorder.\n",
    "arr = np.array([1, 2, 3])"
   ]
  },
  {
   "cell_type": "code",
   "execution_count": 222,
   "id": "b97902d1-09b8-471e-83e8-b05bac829a78",
   "metadata": {},
   "outputs": [],
   "source": [
    "byteord = arr.dtype.byteorder"
   ]
  },
  {
   "cell_type": "code",
   "execution_count": 223,
   "id": "d4d97dac-b81d-4295-9366-9422872b5d08",
   "metadata": {},
   "outputs": [
    {
     "name": "stdout",
     "output_type": "stream",
     "text": [
      "=\n"
     ]
    }
   ],
   "source": [
    "print(byteord)"
   ]
  },
  {
   "cell_type": "code",
   "execution_count": 224,
   "id": "612d7b8e-adb6-4b3e-ae4a-aec565c9b9be",
   "metadata": {},
   "outputs": [],
   "source": [
    "# 72 For the given NumPy array, perform byte swapping in place using `byteswap()`.\n",
    "arr = np.array([1, 2, 3], dtype=np.int32)"
   ]
  },
  {
   "cell_type": "code",
   "execution_count": 225,
   "id": "d5cd5d88-e3fd-405f-95a3-7567d3453fb7",
   "metadata": {},
   "outputs": [
    {
     "data": {
      "text/plain": [
       "array([1, 2, 3])"
      ]
     },
     "execution_count": 225,
     "metadata": {},
     "output_type": "execute_result"
    }
   ],
   "source": [
    "arr"
   ]
  },
  {
   "cell_type": "code",
   "execution_count": 226,
   "id": "8aec90e8-d742-499a-87e0-a04e1673dc25",
   "metadata": {},
   "outputs": [
    {
     "data": {
      "text/plain": [
       "array([16777216, 33554432, 50331648])"
      ]
     },
     "execution_count": 226,
     "metadata": {},
     "output_type": "execute_result"
    }
   ],
   "source": [
    "arr.byteswap()"
   ]
  },
  {
   "cell_type": "code",
   "execution_count": 227,
   "id": "46c96e23-5a8d-49a3-93bf-214d21dc8230",
   "metadata": {},
   "outputs": [],
   "source": [
    "# 73 For the given NumPy array, swap its byte order without modifying the original array using `newbyteorder()`.\n",
    "arr = np.array([1, 2, 3], dtype=np.int32)"
   ]
  },
  {
   "cell_type": "code",
   "execution_count": 228,
   "id": "5b7fc0f5-5320-4c44-ae03-b751b0322882",
   "metadata": {},
   "outputs": [
    {
     "data": {
      "text/plain": [
       "array([1, 2, 3])"
      ]
     },
     "execution_count": 228,
     "metadata": {},
     "output_type": "execute_result"
    }
   ],
   "source": [
    "arr"
   ]
  },
  {
   "cell_type": "code",
   "execution_count": 229,
   "id": "29820a84-aac9-44ec-93ca-3bad533fe5de",
   "metadata": {},
   "outputs": [],
   "source": [
    "swap_arr = arr.newbyteorder()"
   ]
  },
  {
   "cell_type": "code",
   "execution_count": 230,
   "id": "e025d83e-21eb-4b55-b884-3f76eb69e2bf",
   "metadata": {},
   "outputs": [
    {
     "data": {
      "text/plain": [
       "array([16777216, 33554432, 50331648], dtype='>i4')"
      ]
     },
     "execution_count": 230,
     "metadata": {},
     "output_type": "execute_result"
    }
   ],
   "source": [
    "swap_arr"
   ]
  },
  {
   "cell_type": "code",
   "execution_count": 231,
   "id": "8a8d3085-1815-4423-a872-3cf358150804",
   "metadata": {},
   "outputs": [
    {
     "data": {
      "text/plain": [
       "dtype('int32')"
      ]
     },
     "execution_count": 231,
     "metadata": {},
     "output_type": "execute_result"
    }
   ],
   "source": [
    "arr.dtype"
   ]
  },
  {
   "cell_type": "code",
   "execution_count": 232,
   "id": "bf0662dd-5ac0-4010-b4ef-fddf81c42f6f",
   "metadata": {},
   "outputs": [
    {
     "data": {
      "text/plain": [
       "dtype('>i4')"
      ]
     },
     "execution_count": 232,
     "metadata": {},
     "output_type": "execute_result"
    }
   ],
   "source": [
    "swap_arr.dtype"
   ]
  },
  {
   "cell_type": "code",
   "execution_count": 233,
   "id": "42f914bf-7033-431d-9ea4-ccdb4d113b13",
   "metadata": {},
   "outputs": [
    {
     "name": "stdout",
     "output_type": "stream",
     "text": [
      "byte swapping is neccesary for the array\n"
     ]
    }
   ],
   "source": [
    "# 74 For the given NumPy array and swap its byte order conditionally based on system endianness using `newbyteorder()`.\n",
    "import sys\n",
    "arr = np.array([1, 2, 3], dtype=np.int32)\n",
    "system_endianness = sys.byteorder\n",
    "arrar_endianness = arr.dtype.byteorder\n",
    "if arrar_endianness != system_endianness:\n",
    "    print(\"byte swapping is neccesary for the array\")\n",
    "    swapped_array = arr.newbyteorder()\n",
    "else:\n",
    "    print(\"no need to change byte order if it's already correct\")\n",
    "    swapped_array = arr.copy() # no need to change byte order if it's already correct"
   ]
  },
  {
   "cell_type": "code",
   "execution_count": 234,
   "id": "b3f404bb-c9c3-4645-9139-e58703d52f55",
   "metadata": {},
   "outputs": [
    {
     "data": {
      "text/plain": [
       "'='"
      ]
     },
     "execution_count": 234,
     "metadata": {},
     "output_type": "execute_result"
    }
   ],
   "source": [
    "arrar_endianness"
   ]
  },
  {
   "cell_type": "code",
   "execution_count": 235,
   "id": "020fd441-2d85-4f73-afcf-419869487077",
   "metadata": {},
   "outputs": [
    {
     "data": {
      "text/plain": [
       "'little'"
      ]
     },
     "execution_count": 235,
     "metadata": {},
     "output_type": "execute_result"
    }
   ],
   "source": [
    "system_endianness"
   ]
  },
  {
   "cell_type": "code",
   "execution_count": 236,
   "id": "7a8845c5-aeaf-4fc1-8c82-139619bffe62",
   "metadata": {},
   "outputs": [
    {
     "data": {
      "text/plain": [
       "array([16777216, 33554432, 50331648], dtype='>i4')"
      ]
     },
     "execution_count": 236,
     "metadata": {},
     "output_type": "execute_result"
    }
   ],
   "source": [
    "swapped_array"
   ]
  },
  {
   "cell_type": "code",
   "execution_count": 237,
   "id": "2052d548-586a-4698-a576-6281279c02e2",
   "metadata": {},
   "outputs": [
    {
     "name": "stdout",
     "output_type": "stream",
     "text": [
      "the array is already in the sytem's native byte order\n"
     ]
    }
   ],
   "source": [
    "# 75 For the given NumPy array, check if byte swapping is necessary for the current system using `dtype` attribute `byteorder`.\n",
    "arr = np.array([1, 2, 3], dtype=np.int32)\n",
    "system_endianness = sys.byteorder\n",
    "arrar_endianness = arr.dtype.byteorder\n",
    "if arrar_endianness == '=':\n",
    "   print(\"the array is already in the sytem's native byte order\") \n",
    "elif arrar_endianness == system_endianness:\n",
    "    print(\"the array is already in the sytem's byte order\")\n",
    "else:\n",
    "    print(\"byte swapping is neccesary for the array\")\n",
    "    swapped_array = arr.newbyteorder()"
   ]
  },
  {
   "cell_type": "code",
   "execution_count": 238,
   "id": "3973c817-4425-4a33-add1-a9804c9539d5",
   "metadata": {},
   "outputs": [
    {
     "data": {
      "text/plain": [
       "'little'"
      ]
     },
     "execution_count": 238,
     "metadata": {},
     "output_type": "execute_result"
    }
   ],
   "source": [
    "system_endianness"
   ]
  },
  {
   "cell_type": "code",
   "execution_count": 239,
   "id": "336c76d8-f521-4967-97c2-63b269557bbc",
   "metadata": {},
   "outputs": [
    {
     "data": {
      "text/plain": [
       "'='"
      ]
     },
     "execution_count": 239,
     "metadata": {},
     "output_type": "execute_result"
    }
   ],
   "source": [
    "arrar_endianness"
   ]
  },
  {
   "cell_type": "code",
   "execution_count": 240,
   "id": "1dd9db92-0c18-492a-a012-ac1969f0cb1e",
   "metadata": {},
   "outputs": [
    {
     "data": {
      "text/plain": [
       "array([16777216, 33554432, 50331648], dtype='>i4')"
      ]
     },
     "execution_count": 240,
     "metadata": {},
     "output_type": "execute_result"
    }
   ],
   "source": [
    "swapped_array"
   ]
  },
  {
   "cell_type": "code",
   "execution_count": 241,
   "id": "7a137e93-6133-414f-a217-3e8ef681a38a",
   "metadata": {},
   "outputs": [],
   "source": [
    "# 76 Create a NumPy array `arr1` with values from 1 to 10. Create a copy of `arr1` named `copy_arr` and modify an element in `copy_arr`.\n",
    "# Check if modifying `copy_arr` affects `arr1`.\n",
    "arr1 = np.random.randint(1,11,5)\n",
    "copy_arr1 = arr1.copy() # it's called deep copy if we change arr1 it not impact of copy_arr1."
   ]
  },
  {
   "cell_type": "code",
   "execution_count": 242,
   "id": "a95b82e3-809f-46fe-b110-237b8b7b4690",
   "metadata": {},
   "outputs": [
    {
     "data": {
      "text/plain": [
       "array([3, 8, 4, 5, 1])"
      ]
     },
     "execution_count": 242,
     "metadata": {},
     "output_type": "execute_result"
    }
   ],
   "source": [
    "arr1"
   ]
  },
  {
   "cell_type": "code",
   "execution_count": 243,
   "id": "4c471551-216e-4be2-8aae-32a60d5919db",
   "metadata": {},
   "outputs": [
    {
     "data": {
      "text/plain": [
       "array([3, 8, 4, 5, 1])"
      ]
     },
     "execution_count": 243,
     "metadata": {},
     "output_type": "execute_result"
    }
   ],
   "source": [
    "copy_arr1"
   ]
  },
  {
   "cell_type": "code",
   "execution_count": 244,
   "id": "3f5942d7-298d-4444-abc0-943cb197f8ac",
   "metadata": {},
   "outputs": [
    {
     "data": {
      "text/plain": [
       "3"
      ]
     },
     "execution_count": 244,
     "metadata": {},
     "output_type": "execute_result"
    }
   ],
   "source": [
    "arr1[0]"
   ]
  },
  {
   "cell_type": "code",
   "execution_count": 245,
   "id": "dae62b70-aeb4-4316-8531-1672eb2e33b1",
   "metadata": {},
   "outputs": [],
   "source": [
    "arr1[0] = 2"
   ]
  },
  {
   "cell_type": "code",
   "execution_count": 246,
   "id": "ed8db8ed-050c-4f9d-8d02-9e3ef37ccf19",
   "metadata": {},
   "outputs": [
    {
     "data": {
      "text/plain": [
       "array([2, 8, 4, 5, 1])"
      ]
     },
     "execution_count": 246,
     "metadata": {},
     "output_type": "execute_result"
    }
   ],
   "source": [
    "arr1"
   ]
  },
  {
   "cell_type": "code",
   "execution_count": 247,
   "id": "1a4f2db2-0eb4-4f39-b26e-185c237daf87",
   "metadata": {},
   "outputs": [
    {
     "data": {
      "text/plain": [
       "array([3, 8, 4, 5, 1])"
      ]
     },
     "execution_count": 247,
     "metadata": {},
     "output_type": "execute_result"
    }
   ],
   "source": [
    "copy_arr1"
   ]
  },
  {
   "cell_type": "code",
   "execution_count": 248,
   "id": "1c520b0e-1fad-4660-a6f7-f8c806b8c880",
   "metadata": {},
   "outputs": [],
   "source": [
    "# 77 Create a 2D NumPy array `matrix` of shape (3, 3) with random integers. Extract a slice `view_slice` from the matrix. \n",
    "# Modify an element in `view_slice` and observe if it changes the original `matrix`.\n",
    "arr = np.random.randint(1,25,(3,3))\n",
    "view_slice = arr[0:2,[0,2]] "
   ]
  },
  {
   "cell_type": "code",
   "execution_count": 249,
   "id": "798817f9-dc36-4279-ae20-9ef1e3c63f51",
   "metadata": {},
   "outputs": [
    {
     "data": {
      "text/plain": [
       "array([[ 6,  5, 18],\n",
       "       [18,  8, 21],\n",
       "       [ 3, 13,  3]])"
      ]
     },
     "execution_count": 249,
     "metadata": {},
     "output_type": "execute_result"
    }
   ],
   "source": [
    "arr"
   ]
  },
  {
   "cell_type": "code",
   "execution_count": 250,
   "id": "7960cb16-e3e5-4836-8db7-e1cc3e8ea965",
   "metadata": {},
   "outputs": [
    {
     "data": {
      "text/plain": [
       "array([[ 6, 18],\n",
       "       [18, 21]])"
      ]
     },
     "execution_count": 250,
     "metadata": {},
     "output_type": "execute_result"
    }
   ],
   "source": [
    "view_slice"
   ]
  },
  {
   "cell_type": "code",
   "execution_count": 251,
   "id": "fd735cb8-7e43-42b7-b2ae-0d56d2b49125",
   "metadata": {},
   "outputs": [
    {
     "data": {
      "text/plain": [
       "18"
      ]
     },
     "execution_count": 251,
     "metadata": {},
     "output_type": "execute_result"
    }
   ],
   "source": [
    "view_slice[0][1]"
   ]
  },
  {
   "cell_type": "code",
   "execution_count": 252,
   "id": "0e748de9-9560-4677-adf8-f7bdebe0dfe5",
   "metadata": {},
   "outputs": [],
   "source": [
    "view_slice[0][1] = 30 # it change the value in extract matrix but not in original matrix."
   ]
  },
  {
   "cell_type": "code",
   "execution_count": 253,
   "id": "3a125d60-b38c-4b8b-929f-0550b33bb962",
   "metadata": {},
   "outputs": [
    {
     "data": {
      "text/plain": [
       "array([[ 6,  5, 18],\n",
       "       [18,  8, 21],\n",
       "       [ 3, 13,  3]])"
      ]
     },
     "execution_count": 253,
     "metadata": {},
     "output_type": "execute_result"
    }
   ],
   "source": [
    "arr"
   ]
  },
  {
   "cell_type": "code",
   "execution_count": 254,
   "id": "b43327dd-2353-44d8-91ea-ed0a430f690e",
   "metadata": {},
   "outputs": [
    {
     "data": {
      "text/plain": [
       "array([[ 6, 30],\n",
       "       [18, 21]])"
      ]
     },
     "execution_count": 254,
     "metadata": {},
     "output_type": "execute_result"
    }
   ],
   "source": [
    "view_slice"
   ]
  },
  {
   "cell_type": "code",
   "execution_count": 255,
   "id": "5024495a-d73b-4edf-834d-59e9f871ec3d",
   "metadata": {},
   "outputs": [],
   "source": [
    "# 78 Create a NumPy array `array_a` of shape (4, 3) with sequential integers from 1 to 12. \n",
    "# Extract a slice `view_b` from `array_a` and broadcast the addition of 5 to view_b. Check if it alters the original `array_a`.\n",
    "array_a = np.array([[1,2,3],[4,5,6],[7,8,9],[10,11,12]])\n",
    "view_b = array_a[1:,[1,2]]"
   ]
  },
  {
   "cell_type": "code",
   "execution_count": 256,
   "id": "b6ddb8ee-31f6-46a4-a6ab-52680ac0d7de",
   "metadata": {},
   "outputs": [
    {
     "data": {
      "text/plain": [
       "array([[ 1,  2,  3],\n",
       "       [ 4,  5,  6],\n",
       "       [ 7,  8,  9],\n",
       "       [10, 11, 12]])"
      ]
     },
     "execution_count": 256,
     "metadata": {},
     "output_type": "execute_result"
    }
   ],
   "source": [
    "array_a"
   ]
  },
  {
   "cell_type": "code",
   "execution_count": 257,
   "id": "cabf7713-7961-4c05-86ef-d66c02d98986",
   "metadata": {},
   "outputs": [
    {
     "data": {
      "text/plain": [
       "array([[ 5,  6],\n",
       "       [ 8,  9],\n",
       "       [11, 12]])"
      ]
     },
     "execution_count": 257,
     "metadata": {},
     "output_type": "execute_result"
    }
   ],
   "source": [
    "view_b"
   ]
  },
  {
   "cell_type": "code",
   "execution_count": 258,
   "id": "dbc8779d-4d7e-41a0-8051-4199a495d269",
   "metadata": {},
   "outputs": [
    {
     "data": {
      "text/plain": [
       "array([[10, 11],\n",
       "       [13, 14],\n",
       "       [16, 17]])"
      ]
     },
     "execution_count": 258,
     "metadata": {},
     "output_type": "execute_result"
    }
   ],
   "source": [
    "view_b + 5 # change in view_b not impact the array_a in case of brodcasting"
   ]
  },
  {
   "cell_type": "code",
   "execution_count": 259,
   "id": "022de6f8-ac30-4e22-8661-4714e5c0520b",
   "metadata": {},
   "outputs": [
    {
     "data": {
      "text/plain": [
       "array([[ 1,  2,  3],\n",
       "       [ 4,  5,  6],\n",
       "       [ 7,  8,  9],\n",
       "       [10, 11, 12]])"
      ]
     },
     "execution_count": 259,
     "metadata": {},
     "output_type": "execute_result"
    }
   ],
   "source": [
    "array_a"
   ]
  },
  {
   "cell_type": "code",
   "execution_count": 260,
   "id": "2abcefea-74fc-4670-a789-0e1a8f09406c",
   "metadata": {},
   "outputs": [],
   "source": [
    "# 79 Create a NumPy array `orig_array` of shape (2, 4) with values from 1 to 8. Create a reshaped view `reshaped_view` of shape (4, 2) \n",
    "# from orig_array. Modify an element in `reshaped_view` and check if it reflects changes in the original `orig_array`.\n",
    "orig_array = np.random.randint(1,9,(2,4)) \n",
    "reshaped_view = orig_array.reshape(4,2)"
   ]
  },
  {
   "cell_type": "code",
   "execution_count": 261,
   "id": "549e446f-2039-4d54-8518-3d3b11391ccf",
   "metadata": {},
   "outputs": [
    {
     "data": {
      "text/plain": [
       "array([[1, 5, 8, 8],\n",
       "       [8, 6, 5, 1]])"
      ]
     },
     "execution_count": 261,
     "metadata": {},
     "output_type": "execute_result"
    }
   ],
   "source": [
    "orig_array"
   ]
  },
  {
   "cell_type": "code",
   "execution_count": 262,
   "id": "ef154a89-408c-4399-bc79-aa7e3e0fcfba",
   "metadata": {},
   "outputs": [
    {
     "data": {
      "text/plain": [
       "array([[1, 5],\n",
       "       [8, 8],\n",
       "       [8, 6],\n",
       "       [5, 1]])"
      ]
     },
     "execution_count": 262,
     "metadata": {},
     "output_type": "execute_result"
    }
   ],
   "source": [
    "reshaped_view"
   ]
  },
  {
   "cell_type": "code",
   "execution_count": 263,
   "id": "aca4b530-cdfe-4202-be8a-b833d22727f9",
   "metadata": {},
   "outputs": [
    {
     "data": {
      "text/plain": [
       "6"
      ]
     },
     "execution_count": 263,
     "metadata": {},
     "output_type": "execute_result"
    }
   ],
   "source": [
    "reshaped_view[2][1]"
   ]
  },
  {
   "cell_type": "code",
   "execution_count": 264,
   "id": "dd21d433-9a63-4486-99b9-4fd55485a2ab",
   "metadata": {},
   "outputs": [],
   "source": [
    "reshaped_view[2][1] = 4 # change in reshaped_view also impact in orig_array in case of reshape."
   ]
  },
  {
   "cell_type": "code",
   "execution_count": 265,
   "id": "1a0b72ff-230c-49ca-910a-3d8f6f41d0f0",
   "metadata": {},
   "outputs": [
    {
     "data": {
      "text/plain": [
       "array([[1, 5],\n",
       "       [8, 8],\n",
       "       [8, 4],\n",
       "       [5, 1]])"
      ]
     },
     "execution_count": 265,
     "metadata": {},
     "output_type": "execute_result"
    }
   ],
   "source": [
    "reshaped_view"
   ]
  },
  {
   "cell_type": "code",
   "execution_count": 266,
   "id": "758e3e1c-b9c5-4662-bc34-0f61a0d287dc",
   "metadata": {},
   "outputs": [
    {
     "data": {
      "text/plain": [
       "array([[1, 5, 8, 8],\n",
       "       [8, 4, 5, 1]])"
      ]
     },
     "execution_count": 266,
     "metadata": {},
     "output_type": "execute_result"
    }
   ],
   "source": [
    "orig_array"
   ]
  },
  {
   "cell_type": "code",
   "execution_count": 267,
   "id": "c35cf2ec-861e-4b4e-b272-06aef35deeca",
   "metadata": {},
   "outputs": [],
   "source": [
    "# 80 Create a NumPy array `data` of shape (3, 4) with random integers. Extract a copy `data_copy` of elements greater than 5. \n",
    "# Modify an element in `data_copy` and verify if it affects the original `data`.\n",
    "data = np.random.randint(1,15,(3,4))\n",
    "data_copy = data[data>5]"
   ]
  },
  {
   "cell_type": "code",
   "execution_count": 268,
   "id": "9dc9bf2e-2d3e-4ca3-831f-8812a51c10a9",
   "metadata": {},
   "outputs": [
    {
     "data": {
      "text/plain": [
       "array([[ 7, 12,  2,  5],\n",
       "       [11,  9,  4, 14],\n",
       "       [11,  6,  1,  1]])"
      ]
     },
     "execution_count": 268,
     "metadata": {},
     "output_type": "execute_result"
    }
   ],
   "source": [
    "data"
   ]
  },
  {
   "cell_type": "code",
   "execution_count": 269,
   "id": "0753a85c-21c3-420b-b739-7d6195ad0081",
   "metadata": {},
   "outputs": [
    {
     "data": {
      "text/plain": [
       "array([ 7, 12, 11,  9, 14, 11,  6])"
      ]
     },
     "execution_count": 269,
     "metadata": {},
     "output_type": "execute_result"
    }
   ],
   "source": [
    "data_copy"
   ]
  },
  {
   "cell_type": "code",
   "execution_count": 270,
   "id": "791f8a7d-d2ea-449c-9f5f-8982470daae0",
   "metadata": {},
   "outputs": [
    {
     "data": {
      "text/plain": [
       "14"
      ]
     },
     "execution_count": 270,
     "metadata": {},
     "output_type": "execute_result"
    }
   ],
   "source": [
    "data_copy[4] "
   ]
  },
  {
   "cell_type": "code",
   "execution_count": 271,
   "id": "2af6fddc-ff2a-4faf-934a-fbcfa833ad47",
   "metadata": {},
   "outputs": [],
   "source": [
    "data_copy[4]  = 10 # change in data_copy not impact the data."
   ]
  },
  {
   "cell_type": "code",
   "execution_count": 272,
   "id": "3bcdff57-0207-4f61-aeed-2dcee115f59d",
   "metadata": {},
   "outputs": [
    {
     "data": {
      "text/plain": [
       "array([ 7, 12, 11,  9, 10, 11,  6])"
      ]
     },
     "execution_count": 272,
     "metadata": {},
     "output_type": "execute_result"
    }
   ],
   "source": [
    "data_copy"
   ]
  },
  {
   "cell_type": "code",
   "execution_count": 273,
   "id": "e3481fc0-292c-4169-92bd-a5793ebbec93",
   "metadata": {},
   "outputs": [
    {
     "data": {
      "text/plain": [
       "array([[ 7, 12,  2,  5],\n",
       "       [11,  9,  4, 14],\n",
       "       [11,  6,  1,  1]])"
      ]
     },
     "execution_count": 273,
     "metadata": {},
     "output_type": "execute_result"
    }
   ],
   "source": [
    "data"
   ]
  },
  {
   "cell_type": "code",
   "execution_count": 274,
   "id": "2c743be0-d939-49ea-8656-b8226283f6d2",
   "metadata": {},
   "outputs": [],
   "source": [
    "# 81 Create two matrices A and B of identical shape containing integers and perform addition and subtraction operations between them.\n",
    "import numpy.matlib as nm\n",
    "A = nm.random.randint(1,10,(3,3))\n",
    "B = nm.random.randint(1,10,(3,3))"
   ]
  },
  {
   "cell_type": "code",
   "execution_count": 275,
   "id": "f3bd34e2-252f-4097-9319-042c17e974f3",
   "metadata": {},
   "outputs": [
    {
     "data": {
      "text/plain": [
       "array([[6, 4, 1],\n",
       "       [8, 4, 5],\n",
       "       [7, 8, 6]])"
      ]
     },
     "execution_count": 275,
     "metadata": {},
     "output_type": "execute_result"
    }
   ],
   "source": [
    "A"
   ]
  },
  {
   "cell_type": "code",
   "execution_count": 276,
   "id": "48bebabd-22de-48d5-af53-f77a09753d03",
   "metadata": {},
   "outputs": [
    {
     "data": {
      "text/plain": [
       "array([[5, 7, 2],\n",
       "       [1, 2, 5],\n",
       "       [5, 3, 3]])"
      ]
     },
     "execution_count": 276,
     "metadata": {},
     "output_type": "execute_result"
    }
   ],
   "source": [
    "B"
   ]
  },
  {
   "cell_type": "code",
   "execution_count": 277,
   "id": "b8d946ad-5485-4fe6-9c61-abd9f1420f9a",
   "metadata": {},
   "outputs": [
    {
     "data": {
      "text/plain": [
       "array([[11, 11,  3],\n",
       "       [ 9,  6, 10],\n",
       "       [12, 11,  9]])"
      ]
     },
     "execution_count": 277,
     "metadata": {},
     "output_type": "execute_result"
    }
   ],
   "source": [
    "A+B"
   ]
  },
  {
   "cell_type": "code",
   "execution_count": 278,
   "id": "9a219678-8f6d-4c80-9075-3725da7efaba",
   "metadata": {},
   "outputs": [
    {
     "data": {
      "text/plain": [
       "array([[ 1, -3, -1],\n",
       "       [ 7,  2,  0],\n",
       "       [ 2,  5,  3]])"
      ]
     },
     "execution_count": 278,
     "metadata": {},
     "output_type": "execute_result"
    }
   ],
   "source": [
    "A-B"
   ]
  },
  {
   "cell_type": "code",
   "execution_count": 279,
   "id": "004deab0-2b52-4ca2-bd15-51b2d69f43f2",
   "metadata": {},
   "outputs": [],
   "source": [
    "# 82 Generate two matrices `C` (3x2) and `D` (2x4) and perform matrix multiplication.\n",
    "A = nm.random.randint(1,10,(3,2))\n",
    "B = nm.random.randint(1,10,(2,4))"
   ]
  },
  {
   "cell_type": "code",
   "execution_count": 280,
   "id": "1ca5132f-74ff-4b53-b0a2-581dc65ee5ce",
   "metadata": {},
   "outputs": [
    {
     "data": {
      "text/plain": [
       "array([[1, 5],\n",
       "       [3, 2],\n",
       "       [3, 1]])"
      ]
     },
     "execution_count": 280,
     "metadata": {},
     "output_type": "execute_result"
    }
   ],
   "source": [
    "A"
   ]
  },
  {
   "cell_type": "code",
   "execution_count": 281,
   "id": "0e089c27-fdf0-4b82-84f8-e08940c40c54",
   "metadata": {},
   "outputs": [
    {
     "data": {
      "text/plain": [
       "array([[1, 4, 1, 2],\n",
       "       [7, 3, 7, 4]])"
      ]
     },
     "execution_count": 281,
     "metadata": {},
     "output_type": "execute_result"
    }
   ],
   "source": [
    "B"
   ]
  },
  {
   "cell_type": "code",
   "execution_count": 282,
   "id": "d2fae075-3df7-4bd7-a246-b7cbe241feee",
   "metadata": {},
   "outputs": [
    {
     "data": {
      "text/plain": [
       "array([[36, 19, 36, 22],\n",
       "       [17, 18, 17, 14],\n",
       "       [10, 15, 10, 10]])"
      ]
     },
     "execution_count": 282,
     "metadata": {},
     "output_type": "execute_result"
    }
   ],
   "source": [
    "A@B"
   ]
  },
  {
   "cell_type": "code",
   "execution_count": 283,
   "id": "7d36ef72-21d7-4562-ade8-58e73af349c5",
   "metadata": {},
   "outputs": [],
   "source": [
    "# 83 Create a matrix `E` and find its transpose.\n",
    "E = nm.random.randint(1,15,(2,5))"
   ]
  },
  {
   "cell_type": "code",
   "execution_count": 284,
   "id": "6ac862a3-5691-4701-935f-22343f9391e1",
   "metadata": {},
   "outputs": [
    {
     "data": {
      "text/plain": [
       "array([[10,  2,  8, 14, 12],\n",
       "       [13, 11,  8,  6, 12]])"
      ]
     },
     "execution_count": 284,
     "metadata": {},
     "output_type": "execute_result"
    }
   ],
   "source": [
    "E"
   ]
  },
  {
   "cell_type": "code",
   "execution_count": 285,
   "id": "fcf55b9c-9863-4d1c-8c03-3623690622f2",
   "metadata": {},
   "outputs": [
    {
     "data": {
      "text/plain": [
       "array([[10, 13],\n",
       "       [ 2, 11],\n",
       "       [ 8,  8],\n",
       "       [14,  6],\n",
       "       [12, 12]])"
      ]
     },
     "execution_count": 285,
     "metadata": {},
     "output_type": "execute_result"
    }
   ],
   "source": [
    "E.transpose()"
   ]
  },
  {
   "cell_type": "code",
   "execution_count": 286,
   "id": "f2c4d3ee-4880-499b-8e8d-73900522cbde",
   "metadata": {},
   "outputs": [],
   "source": [
    "# 84 Generate a square matrix `F` and compute its determinant.\n",
    "F = np.random.randint(1,15,(4,4))\n",
    "determinant_F = np.linalg.det(F)"
   ]
  },
  {
   "cell_type": "code",
   "execution_count": 287,
   "id": "b7cd146e-e1a1-49a6-b3c8-783182148c0e",
   "metadata": {},
   "outputs": [
    {
     "data": {
      "text/plain": [
       "array([[ 8,  1,  1,  4],\n",
       "       [10, 10, 13,  1],\n",
       "       [ 9,  3,  3,  6],\n",
       "       [ 5, 14,  5,  3]])"
      ]
     },
     "execution_count": 287,
     "metadata": {},
     "output_type": "execute_result"
    }
   ],
   "source": [
    "F"
   ]
  },
  {
   "cell_type": "code",
   "execution_count": 288,
   "id": "29ab8ff1-d858-478c-8cf7-bbfae4aa35fb",
   "metadata": {},
   "outputs": [
    {
     "data": {
      "text/plain": [
       "1943"
      ]
     },
     "execution_count": 288,
     "metadata": {},
     "output_type": "execute_result"
    }
   ],
   "source": [
    "int(determinant_F)"
   ]
  },
  {
   "cell_type": "code",
   "execution_count": 289,
   "id": "12f90ec2-b773-4f86-9d9e-d82bddf6680a",
   "metadata": {},
   "outputs": [],
   "source": [
    "# 85 Create a square matrix `G` and find its inverse.\n",
    "G = np.random.randint(1,15,(4,4))\n",
    "inverse_G = np.linalg.inv(G)"
   ]
  },
  {
   "cell_type": "code",
   "execution_count": 290,
   "id": "bddc9191-cc67-4545-ae9d-2b63277d96c7",
   "metadata": {},
   "outputs": [
    {
     "data": {
      "text/plain": [
       "array([[ 9, 12,  7,  2],\n",
       "       [ 7, 12,  5,  3],\n",
       "       [12,  1,  3,  2],\n",
       "       [ 7,  7,  7,  9]])"
      ]
     },
     "execution_count": 290,
     "metadata": {},
     "output_type": "execute_result"
    }
   ],
   "source": [
    "G"
   ]
  },
  {
   "cell_type": "code",
   "execution_count": 291,
   "id": "74359dd4-6009-4a8f-8a93-3bee69824cb3",
   "metadata": {},
   "outputs": [
    {
     "data": {
      "text/plain": [
       "array([[-0.0676399 ,  0.07931873,  0.10851582, -0.03552311],\n",
       "       [-0.09245742,  0.20194647, -0.0243309 , -0.04136253],\n",
       "       [ 0.45352798, -0.49586375, -0.10170316,  0.08710462],\n",
       "       [-0.22822384,  0.16690998,  0.0136253 ,  0.10316302]])"
      ]
     },
     "execution_count": 291,
     "metadata": {},
     "output_type": "execute_result"
    }
   ],
   "source": [
    "inverse_G"
   ]
  }
 ],
 "metadata": {
  "kernelspec": {
   "display_name": "Python 3 (ipykernel)",
   "language": "python",
   "name": "python3"
  },
  "language_info": {
   "codemirror_mode": {
    "name": "ipython",
    "version": 3
   },
   "file_extension": ".py",
   "mimetype": "text/x-python",
   "name": "python",
   "nbconvert_exporter": "python",
   "pygments_lexer": "ipython3",
   "version": "3.12.4"
  }
 },
 "nbformat": 4,
 "nbformat_minor": 5
}
